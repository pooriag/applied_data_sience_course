{
  "nbformat": 4,
  "nbformat_minor": 0,
  "metadata": {
    "colab": {
      "provenance": [],
      "toc_visible": true,
      "authorship_tag": "ABX9TyP1YIzd5isz7C3j8SCJ6ryF",
      "include_colab_link": true
    },
    "kernelspec": {
      "name": "python3",
      "display_name": "Python 3"
    },
    "language_info": {
      "name": "python"
    }
  },
  "cells": [
    {
      "cell_type": "markdown",
      "metadata": {
        "id": "view-in-github",
        "colab_type": "text"
      },
      "source": [
        "<a href=\"https://colab.research.google.com/github/pooriag/applied_data_sience_course/blob/main/course1_Introduction_to_Data_Science_in_Python(week_1).ipynb\" target=\"_parent\"><img src=\"https://colab.research.google.com/assets/colab-badge.svg\" alt=\"Open In Colab\"/></a>"
      ]
    },
    {
      "cell_type": "markdown",
      "source": [
        "# working with csv files"
      ],
      "metadata": {
        "id": "QJGQiswt0d54"
      }
    },
    {
      "cell_type": "code",
      "source": [
        "import csv"
      ],
      "metadata": {
        "id": "0SPAurAo4jvx"
      },
      "execution_count": null,
      "outputs": []
    },
    {
      "cell_type": "markdown",
      "source": [
        "in here we use seaborn library for loading a csv file but other libraries can be used as well"
      ],
      "metadata": {
        "id": "jQDvraxQ1mis"
      }
    },
    {
      "cell_type": "code",
      "source": [
        "import seaborn as sns"
      ],
      "metadata": {
        "id": "XQbQpd3i3H1K"
      },
      "execution_count": null,
      "outputs": []
    },
    {
      "cell_type": "code",
      "source": [
        "#loading csv file from dataset\n",
        "df = sns.load_dataset(\"mpg\")"
      ],
      "metadata": {
        "id": "y1rMmv5O3Mce"
      },
      "execution_count": null,
      "outputs": []
    },
    {
      "cell_type": "code",
      "source": [
        "print(df)"
      ],
      "metadata": {
        "id": "TUKFkCRN3YOC",
        "colab": {
          "base_uri": "https://localhost:8080/"
        },
        "outputId": "284bd598-3b5c-4e01-ecd2-9887feabe3fb"
      },
      "execution_count": null,
      "outputs": [
        {
          "output_type": "stream",
          "name": "stdout",
          "text": [
            "      mpg  cylinders  displacement  horsepower  weight  acceleration  \\\n",
            "0    18.0          8         307.0       130.0    3504          12.0   \n",
            "1    15.0          8         350.0       165.0    3693          11.5   \n",
            "2    18.0          8         318.0       150.0    3436          11.0   \n",
            "3    16.0          8         304.0       150.0    3433          12.0   \n",
            "4    17.0          8         302.0       140.0    3449          10.5   \n",
            "..    ...        ...           ...         ...     ...           ...   \n",
            "393  27.0          4         140.0        86.0    2790          15.6   \n",
            "394  44.0          4          97.0        52.0    2130          24.6   \n",
            "395  32.0          4         135.0        84.0    2295          11.6   \n",
            "396  28.0          4         120.0        79.0    2625          18.6   \n",
            "397  31.0          4         119.0        82.0    2720          19.4   \n",
            "\n",
            "     model_year  origin                       name  \n",
            "0            70     usa  chevrolet chevelle malibu  \n",
            "1            70     usa          buick skylark 320  \n",
            "2            70     usa         plymouth satellite  \n",
            "3            70     usa              amc rebel sst  \n",
            "4            70     usa                ford torino  \n",
            "..          ...     ...                        ...  \n",
            "393          82     usa            ford mustang gl  \n",
            "394          82  europe                  vw pickup  \n",
            "395          82     usa              dodge rampage  \n",
            "396          82     usa                ford ranger  \n",
            "397          82     usa                 chevy s-10  \n",
            "\n",
            "[398 rows x 9 columns]\n"
          ]
        }
      ]
    },
    {
      "cell_type": "code",
      "source": [
        "for line in df:\n",
        "  print(line)"
      ],
      "metadata": {
        "colab": {
          "base_uri": "https://localhost:8080/"
        },
        "id": "YuL_JOXP4tTZ",
        "outputId": "1503a0cd-eb30-4042-b362-0dab8b036de3"
      },
      "execution_count": null,
      "outputs": [
        {
          "output_type": "stream",
          "name": "stdout",
          "text": [
            "mpg\n",
            "cylinders\n",
            "displacement\n",
            "horsepower\n",
            "weight\n",
            "acceleration\n",
            "model_year\n",
            "origin\n",
            "name\n"
          ]
        }
      ]
    },
    {
      "cell_type": "code",
      "source": [
        "csv_r = csv.reader(df)\n",
        "\n",
        "print(next(csv_r))\n",
        "print(df[\"mpg\"][3])"
      ],
      "metadata": {
        "colab": {
          "base_uri": "https://localhost:8080/"
        },
        "id": "JgdqvbkD77en",
        "outputId": "333f1ed8-1847-42b4-f52b-ece33fdceeba"
      },
      "execution_count": null,
      "outputs": [
        {
          "output_type": "stream",
          "name": "stdout",
          "text": [
            "['mpg']\n",
            "16.0\n",
            "['cylinders']\n"
          ]
        }
      ]
    },
    {
      "cell_type": "code",
      "source": [
        "csv_dict_r = csv.DictReader(df)\n",
        "for line in csv_dict_r:\n",
        "  print(line)"
      ],
      "metadata": {
        "colab": {
          "base_uri": "https://localhost:8080/"
        },
        "id": "1XRLGtITiwyC",
        "outputId": "184b4237-ca6d-4a63-bdfd-7764579bd3e0"
      },
      "execution_count": null,
      "outputs": [
        {
          "output_type": "stream",
          "name": "stdout",
          "text": [
            "{'mpg': 'cylinders'}\n",
            "{'mpg': 'displacement'}\n",
            "{'mpg': 'horsepower'}\n",
            "{'mpg': 'weight'}\n",
            "{'mpg': 'acceleration'}\n",
            "{'mpg': 'model_year'}\n",
            "{'mpg': 'origin'}\n",
            "{'mpg': 'name'}\n"
          ]
        }
      ]
    },
    {
      "cell_type": "markdown",
      "source": [
        "with downloaded file"
      ],
      "metadata": {
        "id": "q3L-yy-PjJtW"
      }
    },
    {
      "cell_type": "code",
      "source": [
        "with open(\"annual-enterprise-survey-2021-financial-year-provisional-csv.csv\", 'r') as csv_file:\n",
        "  csv_reader = csv.reader(csv_file)\n",
        "\n",
        "  print(csv_reader)\n",
        "\n",
        "  print(next(csv_reader))\n",
        "  print(next(csv_reader))"
      ],
      "metadata": {
        "colab": {
          "base_uri": "https://localhost:8080/"
        },
        "id": "3D6hkD3-43Id",
        "outputId": "1195f33c-6c0f-49ae-bc0d-56344c4501bb"
      },
      "execution_count": null,
      "outputs": [
        {
          "output_type": "stream",
          "name": "stdout",
          "text": [
            "<_csv.reader object at 0x7c59afd2f5a0>\n",
            "['Year', 'Industry_aggregation_NZSIOC', 'Industry_code_NZSIOC', 'Industry_name_NZSIOC', 'Units', 'Variable_code', 'Variable_name', 'Variable_category', 'Value', 'Industry_code_ANZSIC06']\n",
            "['2021', 'Level 1', '99999', 'All industries', 'Dollars (millions)', 'H01', 'Total income', 'Financial performance', '757,504', 'ANZSIC06 divisions A-S (excluding classes K6330, L6711, O7552, O760, O771, O772, S9540, S9601, S9602, and S9603)']\n"
          ]
        }
      ]
    },
    {
      "cell_type": "code",
      "source": [
        "with open(\"annual-enterprise-survey-2021-financial-year-provisional-csv.csv\", 'r') as csv_file:\n",
        "  csv_reader = csv.DictReader(csv_file)\n",
        "\n",
        "  print(next(csv_reader))\n",
        "  print(next(csv_reader))"
      ],
      "metadata": {
        "colab": {
          "base_uri": "https://localhost:8080/"
        },
        "id": "pyP4f4Wm6RtF",
        "outputId": "1fd134f6-bf11-4654-86a6-707f5ed1c76f"
      },
      "execution_count": null,
      "outputs": [
        {
          "output_type": "stream",
          "name": "stdout",
          "text": [
            "{'Year': '2021', 'Industry_aggregation_NZSIOC': 'Level 1', 'Industry_code_NZSIOC': '99999', 'Industry_name_NZSIOC': 'All industries', 'Units': 'Dollars (millions)', 'Variable_code': 'H01', 'Variable_name': 'Total income', 'Variable_category': 'Financial performance', 'Value': '757,504', 'Industry_code_ANZSIC06': 'ANZSIC06 divisions A-S (excluding classes K6330, L6711, O7552, O760, O771, O772, S9540, S9601, S9602, and S9603)'}\n",
            "{'Year': '2021', 'Industry_aggregation_NZSIOC': 'Level 1', 'Industry_code_NZSIOC': '99999', 'Industry_name_NZSIOC': 'All industries', 'Units': 'Dollars (millions)', 'Variable_code': 'H04', 'Variable_name': 'Sales, government funding, grants and subsidies', 'Variable_category': 'Financial performance', 'Value': '674,890', 'Industry_code_ANZSIC06': 'ANZSIC06 divisions A-S (excluding classes K6330, L6711, O7552, O760, O771, O772, S9540, S9601, S9602, and S9603)'}\n"
          ]
        }
      ]
    },
    {
      "cell_type": "code",
      "source": [
        "with open(\"annual-enterprise-survey-2021-financial-year-provisional-csv.csv\", 'r') as csv_file:\n",
        "  csv_l = list(csv.DictReader(csv_file))\n",
        "\n"
      ],
      "metadata": {
        "id": "9ztwb7OjkTAK"
      },
      "execution_count": null,
      "outputs": []
    },
    {
      "cell_type": "code",
      "source": [
        "#csv_l"
      ],
      "metadata": {
        "id": "j4g_nI9ukyW8"
      },
      "execution_count": 48,
      "outputs": []
    },
    {
      "cell_type": "code",
      "source": [
        "len(csv_l)"
      ],
      "metadata": {
        "colab": {
          "base_uri": "https://localhost:8080/"
        },
        "id": "4sHGOZ6pk10n",
        "outputId": "dddffdfd-1bb9-4a24-954d-0068e43f94f2"
      },
      "execution_count": null,
      "outputs": [
        {
          "output_type": "execute_result",
          "data": {
            "text/plain": [
              "41715"
            ]
          },
          "metadata": {},
          "execution_count": 20
        }
      ]
    },
    {
      "cell_type": "code",
      "source": [
        "csv_l[:3]"
      ],
      "metadata": {
        "colab": {
          "base_uri": "https://localhost:8080/"
        },
        "id": "-S-c7k7Jk5Y7",
        "outputId": "f2797dbf-505e-46c7-e968-3b311b47cfa2"
      },
      "execution_count": null,
      "outputs": [
        {
          "output_type": "execute_result",
          "data": {
            "text/plain": [
              "[{'Year': '2021',\n",
              "  'Industry_aggregation_NZSIOC': 'Level 1',\n",
              "  'Industry_code_NZSIOC': '99999',\n",
              "  'Industry_name_NZSIOC': 'All industries',\n",
              "  'Units': 'Dollars (millions)',\n",
              "  'Variable_code': 'H01',\n",
              "  'Variable_name': 'Total income',\n",
              "  'Variable_category': 'Financial performance',\n",
              "  'Value': '757,504',\n",
              "  'Industry_code_ANZSIC06': 'ANZSIC06 divisions A-S (excluding classes K6330, L6711, O7552, O760, O771, O772, S9540, S9601, S9602, and S9603)'},\n",
              " {'Year': '2021',\n",
              "  'Industry_aggregation_NZSIOC': 'Level 1',\n",
              "  'Industry_code_NZSIOC': '99999',\n",
              "  'Industry_name_NZSIOC': 'All industries',\n",
              "  'Units': 'Dollars (millions)',\n",
              "  'Variable_code': 'H04',\n",
              "  'Variable_name': 'Sales, government funding, grants and subsidies',\n",
              "  'Variable_category': 'Financial performance',\n",
              "  'Value': '674,890',\n",
              "  'Industry_code_ANZSIC06': 'ANZSIC06 divisions A-S (excluding classes K6330, L6711, O7552, O760, O771, O772, S9540, S9601, S9602, and S9603)'},\n",
              " {'Year': '2021',\n",
              "  'Industry_aggregation_NZSIOC': 'Level 1',\n",
              "  'Industry_code_NZSIOC': '99999',\n",
              "  'Industry_name_NZSIOC': 'All industries',\n",
              "  'Units': 'Dollars (millions)',\n",
              "  'Variable_code': 'H05',\n",
              "  'Variable_name': 'Interest, dividends and donations',\n",
              "  'Variable_category': 'Financial performance',\n",
              "  'Value': '49,593',\n",
              "  'Industry_code_ANZSIC06': 'ANZSIC06 divisions A-S (excluding classes K6330, L6711, O7552, O760, O771, O772, S9540, S9601, S9602, and S9603)'}]"
            ]
          },
          "metadata": {},
          "execution_count": 21
        }
      ]
    },
    {
      "cell_type": "code",
      "source": [
        "from functools import cache\n",
        "#values mean\n",
        "\n",
        "def value_converter(s):\n",
        "  j = ''\n",
        "  for i in s.split(\",\"):\n",
        "    j += i\n",
        "\n",
        "  try:\n",
        "    return int(j)\n",
        "\n",
        "  except:\n",
        "    return 0\n",
        "\n",
        "sum(value_converter(i[\"Value\"]) for i in csv_l) / len(csv_l)"
      ],
      "metadata": {
        "colab": {
          "base_uri": "https://localhost:8080/"
        },
        "id": "IuxwDWwVk_gg",
        "outputId": "504d5675-f0b3-4c74-fd75-7c1482a32874"
      },
      "execution_count": null,
      "outputs": [
        {
          "output_type": "execute_result",
          "data": {
            "text/plain": [
              "30023.976459307203"
            ]
          },
          "metadata": {},
          "execution_count": 30
        }
      ]
    },
    {
      "cell_type": "code",
      "source": [],
      "metadata": {
        "id": "o8drOR0Zlto8"
      },
      "execution_count": null,
      "outputs": []
    },
    {
      "cell_type": "markdown",
      "source": [
        "# Dates and times(introduction)"
      ],
      "metadata": {
        "id": "JrseIWSlp7V4"
      }
    },
    {
      "cell_type": "code",
      "source": [
        "import time as tm\n",
        "import datetime as dt"
      ],
      "metadata": {
        "id": "ICW79EAkqFnP"
      },
      "execution_count": null,
      "outputs": []
    },
    {
      "cell_type": "code",
      "source": [
        "time = tm.time()\n",
        "time"
      ],
      "metadata": {
        "colab": {
          "base_uri": "https://localhost:8080/"
        },
        "id": "NaS_33NiqKyl",
        "outputId": "a8bfe3b9-3762-4d5a-9133-9f6d3d349624"
      },
      "execution_count": null,
      "outputs": [
        {
          "output_type": "execute_result",
          "data": {
            "text/plain": [
              "1694073837.8740335"
            ]
          },
          "metadata": {},
          "execution_count": 35
        }
      ]
    },
    {
      "cell_type": "markdown",
      "source": [
        "**converting to a readble format**"
      ],
      "metadata": {
        "id": "6HR-7g9hrrze"
      }
    },
    {
      "cell_type": "code",
      "source": [
        "date = dt.datetime.fromtimestamp(time)\n",
        "date"
      ],
      "metadata": {
        "colab": {
          "base_uri": "https://localhost:8080/"
        },
        "id": "nCNPhoreqTgf",
        "outputId": "68cf93ff-00a5-406c-c6ec-7509e8489a4e"
      },
      "execution_count": null,
      "outputs": [
        {
          "output_type": "execute_result",
          "data": {
            "text/plain": [
              "datetime.datetime(2023, 9, 7, 8, 3, 57, 874033)"
            ]
          },
          "metadata": {},
          "execution_count": 37
        }
      ]
    },
    {
      "cell_type": "markdown",
      "source": [
        "analysing times with specified distance"
      ],
      "metadata": {
        "id": "162PSIElr631"
      }
    },
    {
      "cell_type": "code",
      "source": [
        "delta = dt.timedelta(days =5)"
      ],
      "metadata": {
        "id": "NQ3dM0Jbq24O"
      },
      "execution_count": null,
      "outputs": []
    },
    {
      "cell_type": "code",
      "source": [
        "today = dt.date.today()"
      ],
      "metadata": {
        "id": "Z1RouIKtrMhO"
      },
      "execution_count": null,
      "outputs": []
    },
    {
      "cell_type": "code",
      "source": [
        "today - delta"
      ],
      "metadata": {
        "colab": {
          "base_uri": "https://localhost:8080/"
        },
        "id": "u_WwgnnvrZRa",
        "outputId": "3c23d9db-0d7d-495b-e4d0-fa56a5ab1aa8"
      },
      "execution_count": null,
      "outputs": [
        {
          "output_type": "execute_result",
          "data": {
            "text/plain": [
              "datetime.date(2023, 9, 2)"
            ]
          },
          "metadata": {},
          "execution_count": 43
        }
      ]
    },
    {
      "cell_type": "markdown",
      "source": [
        "# map()"
      ],
      "metadata": {
        "id": "h9_qiXWcumgl"
      }
    },
    {
      "cell_type": "code",
      "source": [
        "# @title finding max between two list\n",
        "\n",
        "lst1 = [4.6, 7.3, 2]\n",
        "lst2 = [9.5, 6.73, 10]\n",
        "\n",
        "list(map(max, lst1, lst2))"
      ],
      "metadata": {
        "colab": {
          "base_uri": "https://localhost:8080/"
        },
        "id": "y-RzV90-urkf",
        "outputId": "5ff9f712-1840-4fca-e565-35a6f598495e"
      },
      "execution_count": null,
      "outputs": [
        {
          "output_type": "execute_result",
          "data": {
            "text/plain": [
              "[9.5, 7.3, 10]"
            ]
          },
          "metadata": {},
          "execution_count": 44
        }
      ]
    },
    {
      "cell_type": "markdown",
      "source": [
        "#lambda"
      ],
      "metadata": {
        "id": "yII3KK50-1oX"
      }
    },
    {
      "cell_type": "code",
      "source": [
        "my_annonimous_func = lambda inp : inp ** 2\n",
        "\n",
        "my_annonimous_func(5)"
      ],
      "metadata": {
        "colab": {
          "base_uri": "https://localhost:8080/"
        },
        "id": "KLJ4SGfq-5gl",
        "outputId": "4fbcc15a-52ca-47d6-defd-6997ecf92bda"
      },
      "execution_count": null,
      "outputs": [
        {
          "output_type": "execute_result",
          "data": {
            "text/plain": [
              "25"
            ]
          },
          "metadata": {},
          "execution_count": 45
        }
      ]
    },
    {
      "cell_type": "markdown",
      "source": [
        "#list comprehensions"
      ],
      "metadata": {
        "id": "REG-7ZmN_h_W"
      }
    },
    {
      "cell_type": "code",
      "source": [
        "letters = \"abc\"\n",
        "digits = \"123\"\n",
        "\n",
        "ids = [(letters[i] + letters[j] + k) for i in range(len(letters)) for j in range(i, len(letters)) for k in digits]\n",
        "print(ids)\n",
        "print(len(ids))"
      ],
      "metadata": {
        "colab": {
          "base_uri": "https://localhost:8080/"
        },
        "id": "hUfrEM2D_lUj",
        "outputId": "774c2e4d-b070-4692-a308-61a8085ffc28"
      },
      "execution_count": null,
      "outputs": [
        {
          "output_type": "stream",
          "name": "stdout",
          "text": [
            "['aa1', 'aa2', 'aa3', 'ab1', 'ab2', 'ab3', 'ac1', 'ac2', 'ac3', 'bb1', 'bb2', 'bb3', 'bc1', 'bc2', 'bc3', 'cc1', 'cc2', 'cc3']\n",
            "18\n"
          ]
        }
      ]
    },
    {
      "cell_type": "markdown",
      "source": [
        "#Numpy"
      ],
      "metadata": {
        "id": "o8elCB73B7mo"
      }
    },
    {
      "cell_type": "code",
      "source": [
        "#@title importing libraries\n",
        "import numpy as np\n",
        "import math"
      ],
      "metadata": {
        "id": "0kmEhYAsB-Y_"
      },
      "execution_count": null,
      "outputs": []
    },
    {
      "cell_type": "code",
      "source": [
        "#@title creating arrays\n",
        "\n",
        "test_array = np.array([1, 2, 3, 4])\n",
        "print(test_array)\n",
        "print(test_array.ndim)"
      ],
      "metadata": {
        "colab": {
          "base_uri": "https://localhost:8080/"
        },
        "id": "3BoWPVsTCC4N",
        "outputId": "f2c208ae-c68e-4470-d2a1-a298767a9c90"
      },
      "execution_count": null,
      "outputs": [
        {
          "output_type": "stream",
          "name": "stdout",
          "text": [
            "[1 2 3 4]\n",
            "1\n"
          ]
        }
      ]
    },
    {
      "cell_type": "code",
      "source": [
        "#@title 2d array\n",
        "\n",
        "two_d_array = np.array([[1, 2, 3], [5, 3, 7.9]])\n",
        "\n",
        "print(two_d_array.ndim)"
      ],
      "metadata": {
        "colab": {
          "base_uri": "https://localhost:8080/"
        },
        "id": "P7fbVU9CCfuQ",
        "outputId": "7d86c0bf-8793-4ad7-f3ce-9fc1c8afa98a"
      },
      "execution_count": null,
      "outputs": [
        {
          "output_type": "stream",
          "name": "stdout",
          "text": [
            "2\n"
          ]
        }
      ]
    },
    {
      "cell_type": "code",
      "source": [
        "#@title shape of an array\n",
        "\n",
        "two_d_array.shape"
      ],
      "metadata": {
        "colab": {
          "base_uri": "https://localhost:8080/"
        },
        "id": "2OR4FfADDQr3",
        "outputId": "68306f5b-1fae-4887-d7c8-34b531a530eb"
      },
      "execution_count": null,
      "outputs": [
        {
          "output_type": "execute_result",
          "data": {
            "text/plain": [
              "(2, 3)"
            ]
          },
          "metadata": {},
          "execution_count": 5
        }
      ]
    },
    {
      "cell_type": "code",
      "source": [
        "two_d_array.dtype"
      ],
      "metadata": {
        "colab": {
          "base_uri": "https://localhost:8080/"
        },
        "id": "KHrKtgznDfT4",
        "outputId": "c1deaf77-5407-4249-a9a5-f33b6195d3c7"
      },
      "execution_count": null,
      "outputs": [
        {
          "output_type": "execute_result",
          "data": {
            "text/plain": [
              "dtype('float64')"
            ]
          },
          "metadata": {},
          "execution_count": 6
        }
      ]
    },
    {
      "cell_type": "markdown",
      "source": [
        "##place holders"
      ],
      "metadata": {
        "id": "InvC-NRTcKSE"
      }
    },
    {
      "cell_type": "code",
      "source": [
        "#@title filling array with ones\n",
        "\n",
        "np.ones((2, 3))"
      ],
      "metadata": {
        "colab": {
          "base_uri": "https://localhost:8080/"
        },
        "id": "qAN9SzeRcMok",
        "outputId": "50515796-77ab-46f2-d1a0-a16afaf38f88"
      },
      "execution_count": null,
      "outputs": [
        {
          "output_type": "execute_result",
          "data": {
            "text/plain": [
              "array([[1., 1., 1.],\n",
              "       [1., 1., 1.]])"
            ]
          },
          "metadata": {},
          "execution_count": 7
        }
      ]
    },
    {
      "cell_type": "code",
      "source": [
        "#@title filling array with zeros\n",
        "\n",
        "np.zeros((2, 3, 4))"
      ],
      "metadata": {
        "colab": {
          "base_uri": "https://localhost:8080/"
        },
        "id": "J4D51vhFcZHJ",
        "outputId": "686b0b2a-4e72-4d74-c28c-0f5805538ae2"
      },
      "execution_count": null,
      "outputs": [
        {
          "output_type": "execute_result",
          "data": {
            "text/plain": [
              "array([[[0., 0., 0., 0.],\n",
              "        [0., 0., 0., 0.],\n",
              "        [0., 0., 0., 0.]],\n",
              "\n",
              "       [[0., 0., 0., 0.],\n",
              "        [0., 0., 0., 0.],\n",
              "        [0., 0., 0., 0.]]])"
            ]
          },
          "metadata": {},
          "execution_count": 8
        }
      ]
    },
    {
      "cell_type": "code",
      "source": [
        "#@title filling with random uniform numbers between 0 up to 1\n",
        "\n",
        "np.random.rand(2, 3)"
      ],
      "metadata": {
        "colab": {
          "base_uri": "https://localhost:8080/"
        },
        "id": "XA14t8ofchTB",
        "outputId": "fa42b07b-a369-4001-bcb5-04d29cb7801a"
      },
      "execution_count": null,
      "outputs": [
        {
          "output_type": "execute_result",
          "data": {
            "text/plain": [
              "array([[0.8580616 , 0.11067739, 0.4607176 ],\n",
              "       [0.36152515, 0.49887376, 0.56040644]])"
            ]
          },
          "metadata": {},
          "execution_count": 9
        }
      ]
    },
    {
      "cell_type": "code",
      "source": [],
      "metadata": {
        "id": "PE4IlWBEcr6N"
      },
      "execution_count": null,
      "outputs": []
    },
    {
      "cell_type": "markdown",
      "source": [
        "##sequence of numbers"
      ],
      "metadata": {
        "id": "XUxMxf_sf5-f"
      }
    },
    {
      "cell_type": "code",
      "source": [
        "#@title sequence of numbers with defines step(end excluded)\n",
        "\n",
        "np.arange(10, 50, 2)# even numbers from 10 to 48"
      ],
      "metadata": {
        "colab": {
          "base_uri": "https://localhost:8080/"
        },
        "id": "lE63XSnaf-Vv",
        "outputId": "a0d68afe-856a-40f2-9540-220ba91ff426"
      },
      "execution_count": null,
      "outputs": [
        {
          "output_type": "execute_result",
          "data": {
            "text/plain": [
              "array([10, 12, 14, 16, 18, 20, 22, 24, 26, 28, 30, 32, 34, 36, 38, 40, 42,\n",
              "       44, 46, 48])"
            ]
          },
          "metadata": {},
          "execution_count": 10
        }
      ]
    },
    {
      "cell_type": "code",
      "source": [
        "#@title sequence of numers(float) with defined quantitie\n",
        "\n",
        "np.linspace(0, 2, 15)# generaiting 15 float numbers betweeen 0 to 2"
      ],
      "metadata": {
        "colab": {
          "base_uri": "https://localhost:8080/"
        },
        "id": "kxgnwQnWgU6i",
        "outputId": "30ffff74-e663-4f5b-ed98-e13532cfe580"
      },
      "execution_count": null,
      "outputs": [
        {
          "output_type": "execute_result",
          "data": {
            "text/plain": [
              "array([0.        , 0.14285714, 0.28571429, 0.42857143, 0.57142857,\n",
              "       0.71428571, 0.85714286, 1.        , 1.14285714, 1.28571429,\n",
              "       1.42857143, 1.57142857, 1.71428571, 1.85714286, 2.        ])"
            ]
          },
          "metadata": {},
          "execution_count": 11
        }
      ]
    },
    {
      "cell_type": "markdown",
      "source": [
        "##Array oparaitions"
      ],
      "metadata": {
        "id": "ze-_A41HhCOz"
      }
    },
    {
      "cell_type": "markdown",
      "source": [
        "So, we can do many things on arrays, such as mathematical manipulation, addition, subtraction, square, exponents, as well as Boolean arrays, which are binary values. And we can also do matrix manipulations, such as product transpose, inverse and so forth"
      ],
      "metadata": {
        "id": "X2js4QluhJ4K"
      }
    },
    {
      "cell_type": "code",
      "source": [
        "#@title arithmetic applied on asrray elementwise\n",
        "\n",
        "a = np.array([[1, 2, 3], [3, 5, 6]])\n",
        "b = np.array([[4.6, 2.3, 7.8], [5, 6.2, 9.0]])\n",
        "\n",
        "print(\"sum of a and b : {}\".format(a + b))\n",
        "\n",
        "print(\"subtraction of b and : {}\".format(b - a))\n",
        "\n",
        "print(\"a to the power of b :{}\".format(a ** b))\n",
        "\n",
        "print(\"multiplicationn of a and b : {}\".format(a * b))"
      ],
      "metadata": {
        "colab": {
          "base_uri": "https://localhost:8080/"
        },
        "id": "CGe5fOifhGbU",
        "outputId": "76aae263-8050-4b9c-e9d9-6c0fda400ff3"
      },
      "execution_count": null,
      "outputs": [
        {
          "output_type": "stream",
          "name": "stdout",
          "text": [
            "sum of a and b : [[ 5.6  4.3 10.8]\n",
            " [ 8.  11.2 15. ]]\n",
            "subtraction of b and : [[3.6 0.3 4.8]\n",
            " [2.  1.2 3. ]]\n",
            "a to the power of b :[[1.00000000e+00 4.92457765e+00 5.26678739e+03]\n",
            " [2.43000000e+02 2.15582760e+04 1.00776960e+07]]\n",
            "multiplicationn of a and b : [[ 4.6  4.6 23.4]\n",
            " [15.  31.  54. ]]\n"
          ]
        }
      ]
    },
    {
      "cell_type": "code",
      "source": [
        "#@title non_elemnt wise matrix multiplication\n",
        "\n",
        "m1 = np.array([[1, 2], [3, 4]])\n",
        "m2 = np.array([[6, 7], [9, 0]])\n",
        "\n",
        "print(m1@m2)"
      ],
      "metadata": {
        "id": "FvV8vvrPlgEE",
        "colab": {
          "base_uri": "https://localhost:8080/"
        },
        "outputId": "3f6c4cc3-081e-4b65-feeb-d44a3cfd7bf0"
      },
      "execution_count": null,
      "outputs": [
        {
          "output_type": "stream",
          "name": "stdout",
          "text": [
            "[[24  7]\n",
            " [54 21]]\n"
          ]
        }
      ]
    },
    {
      "cell_type": "markdown",
      "source": [
        "###example\n",
        "convert array of farenheit to celcius"
      ],
      "metadata": {
        "id": "c33OGUW1kDBK"
      }
    },
    {
      "cell_type": "code",
      "source": [
        "farenheit = np.array([10, 0, -0.5, 3, 5])#creating an array of tempreture in farenheit\n",
        "\n",
        "celcius = (farenheit - 32) * (5 / 9)\n",
        "\n",
        "print(celcius)"
      ],
      "metadata": {
        "colab": {
          "base_uri": "https://localhost:8080/"
        },
        "id": "uXzIYIL2jEOT",
        "outputId": "e69504fd-e5fe-4c98-9b51-5ce8b3659242"
      },
      "execution_count": null,
      "outputs": [
        {
          "output_type": "stream",
          "name": "stdout",
          "text": [
            "[-12.22222222 -17.77777778 -18.05555556 -16.11111111 -15.        ]\n"
          ]
        }
      ]
    },
    {
      "cell_type": "markdown",
      "source": [
        "###boolean array\n",
        "Another useful and important manipulation is the Boolean array. We can apply an operator on an array and a Boolean array will be returned for any element in the original with true being emitted if it meets the condition. For instance, if we want to get a Boolean array to check the Celsius degrees that are greater than minus 20 degrees, we will just say Celsius is greater than minus 20"
      ],
      "metadata": {
        "id": "OBZaEmGSlB9R"
      }
    },
    {
      "cell_type": "code",
      "source": [
        "print(celcius < -17)"
      ],
      "metadata": {
        "colab": {
          "base_uri": "https://localhost:8080/"
        },
        "id": "ahsqdT_mkymo",
        "outputId": "0ee0de45-f3ed-4be6-e729-54a6a3a994c0"
      },
      "execution_count": null,
      "outputs": [
        {
          "output_type": "stream",
          "name": "stdout",
          "text": [
            "[False  True  True False False]\n"
          ]
        }
      ]
    },
    {
      "cell_type": "markdown",
      "source": [
        "###aggregation functions\n",
        "\n",
        "Now, numpy arrays also have an interesting aggregation functions on them, such as sum, max, min and mean"
      ],
      "metadata": {
        "id": "bvmuTWlNsD_g"
      }
    },
    {
      "cell_type": "code",
      "source": [
        "array1 = np.array([[1, 3], 4])\n",
        "\n",
        "array2 = np.array([[3, 3], [9, 5]])\n",
        "\n",
        "array3 = np.array([[4, 5, 6], [7, 6]])"
      ],
      "metadata": {
        "colab": {
          "base_uri": "https://localhost:8080/"
        },
        "id": "0cM_nNLFsgV9",
        "outputId": "858f0828-19e0-477b-d5a4-71eb7c6dd209"
      },
      "execution_count": null,
      "outputs": [
        {
          "output_type": "stream",
          "name": "stderr",
          "text": [
            "<ipython-input-18-370403693bad>:1: VisibleDeprecationWarning: Creating an ndarray from ragged nested sequences (which is a list-or-tuple of lists-or-tuples-or ndarrays with different lengths or shapes) is deprecated. If you meant to do this, you must specify 'dtype=object' when creating the ndarray.\n",
            "  array1 = np.array([[1, 3], 4])\n",
            "<ipython-input-18-370403693bad>:5: VisibleDeprecationWarning: Creating an ndarray from ragged nested sequences (which is a list-or-tuple of lists-or-tuples-or ndarrays with different lengths or shapes) is deprecated. If you meant to do this, you must specify 'dtype=object' when creating the ndarray.\n",
            "  array3 = np.array([[4, 5, 6], [7, 6]])\n"
          ]
        }
      ]
    },
    {
      "cell_type": "code",
      "source": [
        "#@title sum()\n",
        "\n",
        "print(array3)\n",
        "print(array3.sum())\n",
        "\n",
        "print(array2)\n",
        "print(array2.sum())\n",
        "\n",
        "print(array1)\n",
        "print(array1.sum())"
      ],
      "metadata": {
        "colab": {
          "base_uri": "https://localhost:8080/",
          "height": 435
        },
        "id": "uArG_IepsMki",
        "outputId": "4a804337-9e5e-48ae-d187-aeec8e4a1f1b"
      },
      "execution_count": null,
      "outputs": [
        {
          "output_type": "stream",
          "name": "stdout",
          "text": [
            "[list([4, 5, 6]) list([7, 6])]\n",
            "[4, 5, 6, 7, 6]\n",
            "[[3 3]\n",
            " [9 5]]\n",
            "20\n",
            "[list([1, 3]) 4]\n"
          ]
        },
        {
          "output_type": "error",
          "ename": "TypeError",
          "evalue": "ignored",
          "traceback": [
            "\u001b[0;31m---------------------------------------------------------------------------\u001b[0m",
            "\u001b[0;31mTypeError\u001b[0m                                 Traceback (most recent call last)",
            "\u001b[0;32m<ipython-input-23-ba4ccca42a7c>\u001b[0m in \u001b[0;36m<cell line: 10>\u001b[0;34m()\u001b[0m\n\u001b[1;32m      8\u001b[0m \u001b[0;34m\u001b[0m\u001b[0m\n\u001b[1;32m      9\u001b[0m \u001b[0mprint\u001b[0m\u001b[0;34m(\u001b[0m\u001b[0marray1\u001b[0m\u001b[0;34m)\u001b[0m\u001b[0;34m\u001b[0m\u001b[0;34m\u001b[0m\u001b[0m\n\u001b[0;32m---> 10\u001b[0;31m \u001b[0mprint\u001b[0m\u001b[0;34m(\u001b[0m\u001b[0marray1\u001b[0m\u001b[0;34m.\u001b[0m\u001b[0msum\u001b[0m\u001b[0;34m(\u001b[0m\u001b[0;34m)\u001b[0m\u001b[0;34m)\u001b[0m\u001b[0;34m\u001b[0m\u001b[0;34m\u001b[0m\u001b[0m\n\u001b[0m",
            "\u001b[0;32m/usr/local/lib/python3.10/dist-packages/numpy/core/_methods.py\u001b[0m in \u001b[0;36m_sum\u001b[0;34m(a, axis, dtype, out, keepdims, initial, where)\u001b[0m\n\u001b[1;32m     46\u001b[0m def _sum(a, axis=None, dtype=None, out=None, keepdims=False,\n\u001b[1;32m     47\u001b[0m          initial=_NoValue, where=True):\n\u001b[0;32m---> 48\u001b[0;31m     \u001b[0;32mreturn\u001b[0m \u001b[0mumr_sum\u001b[0m\u001b[0;34m(\u001b[0m\u001b[0ma\u001b[0m\u001b[0;34m,\u001b[0m \u001b[0maxis\u001b[0m\u001b[0;34m,\u001b[0m \u001b[0mdtype\u001b[0m\u001b[0;34m,\u001b[0m \u001b[0mout\u001b[0m\u001b[0;34m,\u001b[0m \u001b[0mkeepdims\u001b[0m\u001b[0;34m,\u001b[0m \u001b[0minitial\u001b[0m\u001b[0;34m,\u001b[0m \u001b[0mwhere\u001b[0m\u001b[0;34m)\u001b[0m\u001b[0;34m\u001b[0m\u001b[0;34m\u001b[0m\u001b[0m\n\u001b[0m\u001b[1;32m     49\u001b[0m \u001b[0;34m\u001b[0m\u001b[0m\n\u001b[1;32m     50\u001b[0m def _prod(a, axis=None, dtype=None, out=None, keepdims=False,\n",
            "\u001b[0;31mTypeError\u001b[0m: can only concatenate list (not \"int\") to list"
          ]
        }
      ]
    },
    {
      "cell_type": "code",
      "source": [
        "#@title max and min\n",
        "\n",
        "print(array2)\n",
        "print(array2.min(), array2.max())\n",
        "\n",
        "print(array3)#[[4, 5, 6], [7, 6]]\n",
        "print(array3.min(), array3.max())\n",
        "\n",
        "array4 = np.array([[7, 6, 8], [7, 6]])\n",
        "print(array4.min(), array4.max())\n",
        "\n",
        "print(array1)\n",
        "print(array1.min(), array1.max())"
      ],
      "metadata": {
        "colab": {
          "base_uri": "https://localhost:8080/",
          "height": 507
        },
        "id": "-jnxmLLGs28z",
        "outputId": "74f6185c-41d0-4a3c-d4c0-ebeb0c67a6ec"
      },
      "execution_count": null,
      "outputs": [
        {
          "output_type": "stream",
          "name": "stdout",
          "text": [
            "[[3 3]\n",
            " [9 5]]\n",
            "3 9\n",
            "[list([4, 5, 6]) list([7, 6])]\n",
            "[4, 5, 6] [7, 6]\n",
            "[7, 6] [7, 6, 8]\n",
            "[list([1, 3]) 4]\n"
          ]
        },
        {
          "output_type": "stream",
          "name": "stderr",
          "text": [
            "<ipython-input-34-c842755f449c>:9: VisibleDeprecationWarning: Creating an ndarray from ragged nested sequences (which is a list-or-tuple of lists-or-tuples-or ndarrays with different lengths or shapes) is deprecated. If you meant to do this, you must specify 'dtype=object' when creating the ndarray.\n",
            "  array4 = np.array([[7, 6, 8], [7, 6]])\n"
          ]
        },
        {
          "output_type": "error",
          "ename": "TypeError",
          "evalue": "ignored",
          "traceback": [
            "\u001b[0;31m---------------------------------------------------------------------------\u001b[0m",
            "\u001b[0;31mTypeError\u001b[0m                                 Traceback (most recent call last)",
            "\u001b[0;32m<ipython-input-34-c842755f449c>\u001b[0m in \u001b[0;36m<cell line: 13>\u001b[0;34m()\u001b[0m\n\u001b[1;32m     11\u001b[0m \u001b[0;34m\u001b[0m\u001b[0m\n\u001b[1;32m     12\u001b[0m \u001b[0mprint\u001b[0m\u001b[0;34m(\u001b[0m\u001b[0marray1\u001b[0m\u001b[0;34m)\u001b[0m\u001b[0;34m\u001b[0m\u001b[0;34m\u001b[0m\u001b[0m\n\u001b[0;32m---> 13\u001b[0;31m \u001b[0mprint\u001b[0m\u001b[0;34m(\u001b[0m\u001b[0marray1\u001b[0m\u001b[0;34m.\u001b[0m\u001b[0mmin\u001b[0m\u001b[0;34m(\u001b[0m\u001b[0;34m)\u001b[0m\u001b[0;34m,\u001b[0m \u001b[0marray1\u001b[0m\u001b[0;34m.\u001b[0m\u001b[0mmax\u001b[0m\u001b[0;34m(\u001b[0m\u001b[0;34m)\u001b[0m\u001b[0;34m)\u001b[0m\u001b[0;34m\u001b[0m\u001b[0;34m\u001b[0m\u001b[0m\n\u001b[0m",
            "\u001b[0;32m/usr/local/lib/python3.10/dist-packages/numpy/core/_methods.py\u001b[0m in \u001b[0;36m_amin\u001b[0;34m(a, axis, out, keepdims, initial, where)\u001b[0m\n\u001b[1;32m     42\u001b[0m def _amin(a, axis=None, out=None, keepdims=False,\n\u001b[1;32m     43\u001b[0m           initial=_NoValue, where=True):\n\u001b[0;32m---> 44\u001b[0;31m     \u001b[0;32mreturn\u001b[0m \u001b[0mumr_minimum\u001b[0m\u001b[0;34m(\u001b[0m\u001b[0ma\u001b[0m\u001b[0;34m,\u001b[0m \u001b[0maxis\u001b[0m\u001b[0;34m,\u001b[0m \u001b[0;32mNone\u001b[0m\u001b[0;34m,\u001b[0m \u001b[0mout\u001b[0m\u001b[0;34m,\u001b[0m \u001b[0mkeepdims\u001b[0m\u001b[0;34m,\u001b[0m \u001b[0minitial\u001b[0m\u001b[0;34m,\u001b[0m \u001b[0mwhere\u001b[0m\u001b[0;34m)\u001b[0m\u001b[0;34m\u001b[0m\u001b[0;34m\u001b[0m\u001b[0m\n\u001b[0m\u001b[1;32m     45\u001b[0m \u001b[0;34m\u001b[0m\u001b[0m\n\u001b[1;32m     46\u001b[0m def _sum(a, axis=None, dtype=None, out=None, keepdims=False,\n",
            "\u001b[0;31mTypeError\u001b[0m: '<=' not supported between instances of 'list' and 'int'"
          ]
        }
      ]
    },
    {
      "cell_type": "code",
      "source": [
        "#@title mean()\n",
        "\n",
        "print(array2)\n",
        "print(array2.mean())\n",
        "\n",
        "print(array3)\n",
        "print(array3.mean())\n",
        "\n",
        "\n",
        "print(array1)\n",
        "print(array1.mean())"
      ],
      "metadata": {
        "colab": {
          "base_uri": "https://localhost:8080/",
          "height": 435
        },
        "id": "duY01KhHtqka",
        "outputId": "d645c23b-fe48-499d-8dc6-b0309fd2eb04"
      },
      "execution_count": null,
      "outputs": [
        {
          "output_type": "stream",
          "name": "stdout",
          "text": [
            "[[3 3]\n",
            " [9 5]]\n",
            "5.0\n",
            "[list([4, 5, 6]) list([7, 6])]\n",
            "[2.  2.5 3.  3.5 3. ]\n",
            "[list([1, 3]) 4]\n"
          ]
        },
        {
          "output_type": "error",
          "ename": "TypeError",
          "evalue": "ignored",
          "traceback": [
            "\u001b[0;31m---------------------------------------------------------------------------\u001b[0m",
            "\u001b[0;31mTypeError\u001b[0m                                 Traceback (most recent call last)",
            "\u001b[0;32m<ipython-input-37-a92287477f07>\u001b[0m in \u001b[0;36m<cell line: 11>\u001b[0;34m()\u001b[0m\n\u001b[1;32m      9\u001b[0m \u001b[0;34m\u001b[0m\u001b[0m\n\u001b[1;32m     10\u001b[0m \u001b[0mprint\u001b[0m\u001b[0;34m(\u001b[0m\u001b[0marray1\u001b[0m\u001b[0;34m)\u001b[0m\u001b[0;34m\u001b[0m\u001b[0;34m\u001b[0m\u001b[0m\n\u001b[0;32m---> 11\u001b[0;31m \u001b[0mprint\u001b[0m\u001b[0;34m(\u001b[0m\u001b[0marray1\u001b[0m\u001b[0;34m.\u001b[0m\u001b[0mmean\u001b[0m\u001b[0;34m(\u001b[0m\u001b[0;34m)\u001b[0m\u001b[0;34m)\u001b[0m\u001b[0;34m\u001b[0m\u001b[0;34m\u001b[0m\u001b[0m\n\u001b[0m",
            "\u001b[0;32m/usr/local/lib/python3.10/dist-packages/numpy/core/_methods.py\u001b[0m in \u001b[0;36m_mean\u001b[0;34m(a, axis, dtype, out, keepdims, where)\u001b[0m\n\u001b[1;32m    178\u001b[0m             \u001b[0mis_float16_result\u001b[0m \u001b[0;34m=\u001b[0m \u001b[0;32mTrue\u001b[0m\u001b[0;34m\u001b[0m\u001b[0;34m\u001b[0m\u001b[0m\n\u001b[1;32m    179\u001b[0m \u001b[0;34m\u001b[0m\u001b[0m\n\u001b[0;32m--> 180\u001b[0;31m     \u001b[0mret\u001b[0m \u001b[0;34m=\u001b[0m \u001b[0mumr_sum\u001b[0m\u001b[0;34m(\u001b[0m\u001b[0marr\u001b[0m\u001b[0;34m,\u001b[0m \u001b[0maxis\u001b[0m\u001b[0;34m,\u001b[0m \u001b[0mdtype\u001b[0m\u001b[0;34m,\u001b[0m \u001b[0mout\u001b[0m\u001b[0;34m,\u001b[0m \u001b[0mkeepdims\u001b[0m\u001b[0;34m,\u001b[0m \u001b[0mwhere\u001b[0m\u001b[0;34m=\u001b[0m\u001b[0mwhere\u001b[0m\u001b[0;34m)\u001b[0m\u001b[0;34m\u001b[0m\u001b[0;34m\u001b[0m\u001b[0m\n\u001b[0m\u001b[1;32m    181\u001b[0m     \u001b[0;32mif\u001b[0m \u001b[0misinstance\u001b[0m\u001b[0;34m(\u001b[0m\u001b[0mret\u001b[0m\u001b[0;34m,\u001b[0m \u001b[0mmu\u001b[0m\u001b[0;34m.\u001b[0m\u001b[0mndarray\u001b[0m\u001b[0;34m)\u001b[0m\u001b[0;34m:\u001b[0m\u001b[0;34m\u001b[0m\u001b[0;34m\u001b[0m\u001b[0m\n\u001b[1;32m    182\u001b[0m         ret = um.true_divide(\n",
            "\u001b[0;31mTypeError\u001b[0m: can only concatenate list (not \"int\") to list"
          ]
        }
      ]
    },
    {
      "cell_type": "markdown",
      "source": [
        "##indexing , slicing and itteraiting"
      ],
      "metadata": {
        "id": "18likiVV6KK-"
      }
    },
    {
      "cell_type": "markdown",
      "source": [
        "###indexing"
      ],
      "metadata": {
        "id": "2aW9zWd_6kFd"
      }
    },
    {
      "cell_type": "code",
      "source": [
        "array = np.array([[1, 2, 3], [2, 4, 1], [3, 14, 13.2]])"
      ],
      "metadata": {
        "id": "xeylxCEuv5x2"
      },
      "execution_count": null,
      "outputs": []
    },
    {
      "cell_type": "code",
      "source": [
        "array[1, 2]"
      ],
      "metadata": {
        "colab": {
          "base_uri": "https://localhost:8080/"
        },
        "id": "SNxb8tMn6x55",
        "outputId": "8a3df3c9-dcf8-440c-e40d-fc356cd2ed68"
      },
      "execution_count": null,
      "outputs": [
        {
          "output_type": "execute_result",
          "data": {
            "text/plain": [
              "1.0"
            ]
          },
          "metadata": {},
          "execution_count": 39
        }
      ]
    },
    {
      "cell_type": "code",
      "source": [
        "array[[0, 1], [2, 1]]"
      ],
      "metadata": {
        "colab": {
          "base_uri": "https://localhost:8080/"
        },
        "id": "kYAgqwhV62jm",
        "outputId": "e040e982-8685-4a42-9d51-9793f69ce33b"
      },
      "execution_count": null,
      "outputs": [
        {
          "output_type": "execute_result",
          "data": {
            "text/plain": [
              "array([3., 4.])"
            ]
          },
          "metadata": {},
          "execution_count": 40
        }
      ]
    },
    {
      "cell_type": "markdown",
      "source": [
        "####boolean indexing"
      ],
      "metadata": {
        "id": "F7x70H3A7lA_"
      }
    },
    {
      "cell_type": "code",
      "source": [
        "array[array >= 4]"
      ],
      "metadata": {
        "colab": {
          "base_uri": "https://localhost:8080/"
        },
        "id": "E5iImqcS6-CS",
        "outputId": "5016c7e6-6b4c-4e7f-ed0c-31beb7871755"
      },
      "execution_count": null,
      "outputs": [
        {
          "output_type": "execute_result",
          "data": {
            "text/plain": [
              "array([ 4. , 14. , 13.2])"
            ]
          },
          "metadata": {},
          "execution_count": 42
        }
      ]
    },
    {
      "cell_type": "markdown",
      "source": [
        "###slicing\n",
        "\n",
        "It's important to realize that a slice of an array is a view into the same data. This is really important, this is called passing by reference. So, modifying the sub array will consequently modify the original array as well."
      ],
      "metadata": {
        "id": "Cer0Ln3t87_F"
      }
    },
    {
      "cell_type": "code",
      "source": [
        "array = np.array([[1, 2, 3], [2, 4, 1], [3, 14, 13.2]])"
      ],
      "metadata": {
        "id": "Ynk-Jib37tEq"
      },
      "execution_count": null,
      "outputs": []
    },
    {
      "cell_type": "code",
      "source": [
        "array[0]"
      ],
      "metadata": {
        "colab": {
          "base_uri": "https://localhost:8080/"
        },
        "id": "l6Eypu0I9FGJ",
        "outputId": "84215182-c3f4-44ea-e5fe-1ef368c04b12"
      },
      "execution_count": null,
      "outputs": [
        {
          "output_type": "execute_result",
          "data": {
            "text/plain": [
              "array([1., 2., 3.])"
            ]
          },
          "metadata": {},
          "execution_count": 44
        }
      ]
    },
    {
      "cell_type": "code",
      "source": [
        "array[:, 2:]"
      ],
      "metadata": {
        "colab": {
          "base_uri": "https://localhost:8080/"
        },
        "id": "QCCa8Eyn9Iwe",
        "outputId": "b4edfdfb-b1fe-4adf-9fa1-052072c0f2d6"
      },
      "execution_count": null,
      "outputs": [
        {
          "output_type": "execute_result",
          "data": {
            "text/plain": [
              "array([[ 3. ],\n",
              "       [ 1. ],\n",
              "       [13.2]])"
            ]
          },
          "metadata": {},
          "execution_count": 45
        }
      ]
    },
    {
      "cell_type": "code",
      "source": [
        "a = array[:, 2:]\n",
        "\n",
        "a[1,0] = 100\n",
        "\n",
        "array"
      ],
      "metadata": {
        "colab": {
          "base_uri": "https://localhost:8080/"
        },
        "id": "U5lBq8uh9OeB",
        "outputId": "9e20740f-cf21-4b4c-cd47-dc23f299fdae"
      },
      "execution_count": null,
      "outputs": [
        {
          "output_type": "execute_result",
          "data": {
            "text/plain": [
              "array([[  1. ,   2. ,   3. ],\n",
              "       [  2. ,   4. , 100. ],\n",
              "       [  3. ,  14. ,  13.2]])"
            ]
          },
          "metadata": {},
          "execution_count": 47
        }
      ]
    },
    {
      "cell_type": "markdown",
      "source": [
        "## working with datasets"
      ],
      "metadata": {
        "id": "6tcONAQaDQnm"
      }
    },
    {
      "cell_type": "code",
      "source": [],
      "metadata": {
        "id": "9ij9ffT19bI-"
      },
      "execution_count": null,
      "outputs": []
    }
  ]
}