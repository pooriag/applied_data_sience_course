{
  "nbformat": 4,
  "nbformat_minor": 0,
  "metadata": {
    "colab": {
      "provenance": [],
      "toc_visible": true,
      "authorship_tag": "ABX9TyOlv2F8Lb1gEGRrUJrlplIt",
      "include_colab_link": true
    },
    "kernelspec": {
      "name": "python3",
      "display_name": "Python 3"
    },
    "language_info": {
      "name": "python"
    }
  },
  "cells": [
    {
      "cell_type": "markdown",
      "metadata": {
        "id": "view-in-github",
        "colab_type": "text"
      },
      "source": [
        "<a href=\"https://colab.research.google.com/github/pooriag/applied_data_sience_course/blob/main/course1_Introduction_to_Data_Science_in_Python(week_1).ipynb\" target=\"_parent\"><img src=\"https://colab.research.google.com/assets/colab-badge.svg\" alt=\"Open In Colab\"/></a>"
      ]
    },
    {
      "cell_type": "markdown",
      "source": [
        "# working with csv files"
      ],
      "metadata": {
        "id": "QJGQiswt0d54"
      }
    },
    {
      "cell_type": "code",
      "source": [
        "import csv"
      ],
      "metadata": {
        "id": "0SPAurAo4jvx"
      },
      "execution_count": null,
      "outputs": []
    },
    {
      "cell_type": "markdown",
      "source": [
        "in here we use seaborn library for loading a csv file but other libraries can be used as well"
      ],
      "metadata": {
        "id": "jQDvraxQ1mis"
      }
    },
    {
      "cell_type": "code",
      "source": [
        "import seaborn as sns"
      ],
      "metadata": {
        "id": "XQbQpd3i3H1K"
      },
      "execution_count": null,
      "outputs": []
    },
    {
      "cell_type": "code",
      "source": [
        "#loading csv file from dataset\n",
        "df = sns.load_dataset(\"mpg\")"
      ],
      "metadata": {
        "id": "y1rMmv5O3Mce"
      },
      "execution_count": null,
      "outputs": []
    },
    {
      "cell_type": "code",
      "source": [
        "print(df)"
      ],
      "metadata": {
        "id": "TUKFkCRN3YOC",
        "colab": {
          "base_uri": "https://localhost:8080/"
        },
        "outputId": "284bd598-3b5c-4e01-ecd2-9887feabe3fb"
      },
      "execution_count": null,
      "outputs": [
        {
          "output_type": "stream",
          "name": "stdout",
          "text": [
            "      mpg  cylinders  displacement  horsepower  weight  acceleration  \\\n",
            "0    18.0          8         307.0       130.0    3504          12.0   \n",
            "1    15.0          8         350.0       165.0    3693          11.5   \n",
            "2    18.0          8         318.0       150.0    3436          11.0   \n",
            "3    16.0          8         304.0       150.0    3433          12.0   \n",
            "4    17.0          8         302.0       140.0    3449          10.5   \n",
            "..    ...        ...           ...         ...     ...           ...   \n",
            "393  27.0          4         140.0        86.0    2790          15.6   \n",
            "394  44.0          4          97.0        52.0    2130          24.6   \n",
            "395  32.0          4         135.0        84.0    2295          11.6   \n",
            "396  28.0          4         120.0        79.0    2625          18.6   \n",
            "397  31.0          4         119.0        82.0    2720          19.4   \n",
            "\n",
            "     model_year  origin                       name  \n",
            "0            70     usa  chevrolet chevelle malibu  \n",
            "1            70     usa          buick skylark 320  \n",
            "2            70     usa         plymouth satellite  \n",
            "3            70     usa              amc rebel sst  \n",
            "4            70     usa                ford torino  \n",
            "..          ...     ...                        ...  \n",
            "393          82     usa            ford mustang gl  \n",
            "394          82  europe                  vw pickup  \n",
            "395          82     usa              dodge rampage  \n",
            "396          82     usa                ford ranger  \n",
            "397          82     usa                 chevy s-10  \n",
            "\n",
            "[398 rows x 9 columns]\n"
          ]
        }
      ]
    },
    {
      "cell_type": "code",
      "source": [
        "for line in df:\n",
        "  print(line)"
      ],
      "metadata": {
        "colab": {
          "base_uri": "https://localhost:8080/"
        },
        "id": "YuL_JOXP4tTZ",
        "outputId": "1503a0cd-eb30-4042-b362-0dab8b036de3"
      },
      "execution_count": null,
      "outputs": [
        {
          "output_type": "stream",
          "name": "stdout",
          "text": [
            "mpg\n",
            "cylinders\n",
            "displacement\n",
            "horsepower\n",
            "weight\n",
            "acceleration\n",
            "model_year\n",
            "origin\n",
            "name\n"
          ]
        }
      ]
    },
    {
      "cell_type": "code",
      "source": [
        "csv_r = csv.reader(df)\n",
        "\n",
        "print(next(csv_r))\n",
        "print(df[\"mpg\"][3])"
      ],
      "metadata": {
        "colab": {
          "base_uri": "https://localhost:8080/"
        },
        "id": "JgdqvbkD77en",
        "outputId": "333f1ed8-1847-42b4-f52b-ece33fdceeba"
      },
      "execution_count": null,
      "outputs": [
        {
          "output_type": "stream",
          "name": "stdout",
          "text": [
            "['mpg']\n",
            "16.0\n",
            "['cylinders']\n"
          ]
        }
      ]
    },
    {
      "cell_type": "code",
      "source": [
        "csv_dict_r = csv.DictReader(df)\n",
        "for line in csv_dict_r:\n",
        "  print(line)"
      ],
      "metadata": {
        "colab": {
          "base_uri": "https://localhost:8080/"
        },
        "id": "1XRLGtITiwyC",
        "outputId": "184b4237-ca6d-4a63-bdfd-7764579bd3e0"
      },
      "execution_count": null,
      "outputs": [
        {
          "output_type": "stream",
          "name": "stdout",
          "text": [
            "{'mpg': 'cylinders'}\n",
            "{'mpg': 'displacement'}\n",
            "{'mpg': 'horsepower'}\n",
            "{'mpg': 'weight'}\n",
            "{'mpg': 'acceleration'}\n",
            "{'mpg': 'model_year'}\n",
            "{'mpg': 'origin'}\n",
            "{'mpg': 'name'}\n"
          ]
        }
      ]
    },
    {
      "cell_type": "markdown",
      "source": [
        "with downloaded file"
      ],
      "metadata": {
        "id": "q3L-yy-PjJtW"
      }
    },
    {
      "cell_type": "code",
      "source": [
        "with open(\"annual-enterprise-survey-2021-financial-year-provisional-csv.csv\", 'r') as csv_file:\n",
        "  csv_reader = csv.reader(csv_file)\n",
        "\n",
        "  print(csv_reader)\n",
        "\n",
        "  print(next(csv_reader))\n",
        "  print(next(csv_reader))"
      ],
      "metadata": {
        "colab": {
          "base_uri": "https://localhost:8080/"
        },
        "id": "3D6hkD3-43Id",
        "outputId": "1195f33c-6c0f-49ae-bc0d-56344c4501bb"
      },
      "execution_count": null,
      "outputs": [
        {
          "output_type": "stream",
          "name": "stdout",
          "text": [
            "<_csv.reader object at 0x7c59afd2f5a0>\n",
            "['Year', 'Industry_aggregation_NZSIOC', 'Industry_code_NZSIOC', 'Industry_name_NZSIOC', 'Units', 'Variable_code', 'Variable_name', 'Variable_category', 'Value', 'Industry_code_ANZSIC06']\n",
            "['2021', 'Level 1', '99999', 'All industries', 'Dollars (millions)', 'H01', 'Total income', 'Financial performance', '757,504', 'ANZSIC06 divisions A-S (excluding classes K6330, L6711, O7552, O760, O771, O772, S9540, S9601, S9602, and S9603)']\n"
          ]
        }
      ]
    },
    {
      "cell_type": "code",
      "source": [
        "with open(\"annual-enterprise-survey-2021-financial-year-provisional-csv.csv\", 'r') as csv_file:\n",
        "  csv_reader = csv.DictReader(csv_file)\n",
        "\n",
        "  print(next(csv_reader))\n",
        "  print(next(csv_reader))"
      ],
      "metadata": {
        "colab": {
          "base_uri": "https://localhost:8080/"
        },
        "id": "pyP4f4Wm6RtF",
        "outputId": "1fd134f6-bf11-4654-86a6-707f5ed1c76f"
      },
      "execution_count": null,
      "outputs": [
        {
          "output_type": "stream",
          "name": "stdout",
          "text": [
            "{'Year': '2021', 'Industry_aggregation_NZSIOC': 'Level 1', 'Industry_code_NZSIOC': '99999', 'Industry_name_NZSIOC': 'All industries', 'Units': 'Dollars (millions)', 'Variable_code': 'H01', 'Variable_name': 'Total income', 'Variable_category': 'Financial performance', 'Value': '757,504', 'Industry_code_ANZSIC06': 'ANZSIC06 divisions A-S (excluding classes K6330, L6711, O7552, O760, O771, O772, S9540, S9601, S9602, and S9603)'}\n",
            "{'Year': '2021', 'Industry_aggregation_NZSIOC': 'Level 1', 'Industry_code_NZSIOC': '99999', 'Industry_name_NZSIOC': 'All industries', 'Units': 'Dollars (millions)', 'Variable_code': 'H04', 'Variable_name': 'Sales, government funding, grants and subsidies', 'Variable_category': 'Financial performance', 'Value': '674,890', 'Industry_code_ANZSIC06': 'ANZSIC06 divisions A-S (excluding classes K6330, L6711, O7552, O760, O771, O772, S9540, S9601, S9602, and S9603)'}\n"
          ]
        }
      ]
    },
    {
      "cell_type": "code",
      "source": [
        "with open(\"annual-enterprise-survey-2021-financial-year-provisional-csv.csv\", 'r') as csv_file:\n",
        "  csv_l = list(csv.DictReader(csv_file))\n",
        "\n"
      ],
      "metadata": {
        "id": "9ztwb7OjkTAK"
      },
      "execution_count": null,
      "outputs": []
    },
    {
      "cell_type": "code",
      "source": [
        "#csv_l"
      ],
      "metadata": {
        "id": "j4g_nI9ukyW8"
      },
      "execution_count": null,
      "outputs": []
    },
    {
      "cell_type": "code",
      "source": [
        "len(csv_l)"
      ],
      "metadata": {
        "colab": {
          "base_uri": "https://localhost:8080/"
        },
        "id": "4sHGOZ6pk10n",
        "outputId": "dddffdfd-1bb9-4a24-954d-0068e43f94f2"
      },
      "execution_count": null,
      "outputs": [
        {
          "output_type": "execute_result",
          "data": {
            "text/plain": [
              "41715"
            ]
          },
          "metadata": {},
          "execution_count": 20
        }
      ]
    },
    {
      "cell_type": "code",
      "source": [
        "csv_l[:3]"
      ],
      "metadata": {
        "colab": {
          "base_uri": "https://localhost:8080/"
        },
        "id": "-S-c7k7Jk5Y7",
        "outputId": "f2797dbf-505e-46c7-e968-3b311b47cfa2"
      },
      "execution_count": null,
      "outputs": [
        {
          "output_type": "execute_result",
          "data": {
            "text/plain": [
              "[{'Year': '2021',\n",
              "  'Industry_aggregation_NZSIOC': 'Level 1',\n",
              "  'Industry_code_NZSIOC': '99999',\n",
              "  'Industry_name_NZSIOC': 'All industries',\n",
              "  'Units': 'Dollars (millions)',\n",
              "  'Variable_code': 'H01',\n",
              "  'Variable_name': 'Total income',\n",
              "  'Variable_category': 'Financial performance',\n",
              "  'Value': '757,504',\n",
              "  'Industry_code_ANZSIC06': 'ANZSIC06 divisions A-S (excluding classes K6330, L6711, O7552, O760, O771, O772, S9540, S9601, S9602, and S9603)'},\n",
              " {'Year': '2021',\n",
              "  'Industry_aggregation_NZSIOC': 'Level 1',\n",
              "  'Industry_code_NZSIOC': '99999',\n",
              "  'Industry_name_NZSIOC': 'All industries',\n",
              "  'Units': 'Dollars (millions)',\n",
              "  'Variable_code': 'H04',\n",
              "  'Variable_name': 'Sales, government funding, grants and subsidies',\n",
              "  'Variable_category': 'Financial performance',\n",
              "  'Value': '674,890',\n",
              "  'Industry_code_ANZSIC06': 'ANZSIC06 divisions A-S (excluding classes K6330, L6711, O7552, O760, O771, O772, S9540, S9601, S9602, and S9603)'},\n",
              " {'Year': '2021',\n",
              "  'Industry_aggregation_NZSIOC': 'Level 1',\n",
              "  'Industry_code_NZSIOC': '99999',\n",
              "  'Industry_name_NZSIOC': 'All industries',\n",
              "  'Units': 'Dollars (millions)',\n",
              "  'Variable_code': 'H05',\n",
              "  'Variable_name': 'Interest, dividends and donations',\n",
              "  'Variable_category': 'Financial performance',\n",
              "  'Value': '49,593',\n",
              "  'Industry_code_ANZSIC06': 'ANZSIC06 divisions A-S (excluding classes K6330, L6711, O7552, O760, O771, O772, S9540, S9601, S9602, and S9603)'}]"
            ]
          },
          "metadata": {},
          "execution_count": 21
        }
      ]
    },
    {
      "cell_type": "code",
      "source": [
        "from functools import cache\n",
        "#values mean\n",
        "\n",
        "def value_converter(s):\n",
        "  j = ''\n",
        "  for i in s.split(\",\"):\n",
        "    j += i\n",
        "\n",
        "  try:\n",
        "    return int(j)\n",
        "\n",
        "  except:\n",
        "    return 0\n",
        "\n",
        "sum(value_converter(i[\"Value\"]) for i in csv_l) / len(csv_l)"
      ],
      "metadata": {
        "colab": {
          "base_uri": "https://localhost:8080/"
        },
        "id": "IuxwDWwVk_gg",
        "outputId": "504d5675-f0b3-4c74-fd75-7c1482a32874"
      },
      "execution_count": null,
      "outputs": [
        {
          "output_type": "execute_result",
          "data": {
            "text/plain": [
              "30023.976459307203"
            ]
          },
          "metadata": {},
          "execution_count": 30
        }
      ]
    },
    {
      "cell_type": "code",
      "source": [],
      "metadata": {
        "id": "o8drOR0Zlto8"
      },
      "execution_count": null,
      "outputs": []
    },
    {
      "cell_type": "markdown",
      "source": [
        "# Dates and times(introduction)"
      ],
      "metadata": {
        "id": "JrseIWSlp7V4"
      }
    },
    {
      "cell_type": "code",
      "source": [
        "import time as tm\n",
        "import datetime as dt"
      ],
      "metadata": {
        "id": "ICW79EAkqFnP"
      },
      "execution_count": null,
      "outputs": []
    },
    {
      "cell_type": "code",
      "source": [
        "time = tm.time()\n",
        "time"
      ],
      "metadata": {
        "colab": {
          "base_uri": "https://localhost:8080/"
        },
        "id": "NaS_33NiqKyl",
        "outputId": "a8bfe3b9-3762-4d5a-9133-9f6d3d349624"
      },
      "execution_count": null,
      "outputs": [
        {
          "output_type": "execute_result",
          "data": {
            "text/plain": [
              "1694073837.8740335"
            ]
          },
          "metadata": {},
          "execution_count": 35
        }
      ]
    },
    {
      "cell_type": "markdown",
      "source": [
        "**converting to a readble format**"
      ],
      "metadata": {
        "id": "6HR-7g9hrrze"
      }
    },
    {
      "cell_type": "code",
      "source": [
        "date = dt.datetime.fromtimestamp(time)\n",
        "date"
      ],
      "metadata": {
        "colab": {
          "base_uri": "https://localhost:8080/"
        },
        "id": "nCNPhoreqTgf",
        "outputId": "68cf93ff-00a5-406c-c6ec-7509e8489a4e"
      },
      "execution_count": null,
      "outputs": [
        {
          "output_type": "execute_result",
          "data": {
            "text/plain": [
              "datetime.datetime(2023, 9, 7, 8, 3, 57, 874033)"
            ]
          },
          "metadata": {},
          "execution_count": 37
        }
      ]
    },
    {
      "cell_type": "markdown",
      "source": [
        "analysing times with specified distance"
      ],
      "metadata": {
        "id": "162PSIElr631"
      }
    },
    {
      "cell_type": "code",
      "source": [
        "delta = dt.timedelta(days =5)"
      ],
      "metadata": {
        "id": "NQ3dM0Jbq24O"
      },
      "execution_count": null,
      "outputs": []
    },
    {
      "cell_type": "code",
      "source": [
        "today = dt.date.today()"
      ],
      "metadata": {
        "id": "Z1RouIKtrMhO"
      },
      "execution_count": null,
      "outputs": []
    },
    {
      "cell_type": "code",
      "source": [
        "today - delta"
      ],
      "metadata": {
        "colab": {
          "base_uri": "https://localhost:8080/"
        },
        "id": "u_WwgnnvrZRa",
        "outputId": "3c23d9db-0d7d-495b-e4d0-fa56a5ab1aa8"
      },
      "execution_count": null,
      "outputs": [
        {
          "output_type": "execute_result",
          "data": {
            "text/plain": [
              "datetime.date(2023, 9, 2)"
            ]
          },
          "metadata": {},
          "execution_count": 43
        }
      ]
    },
    {
      "cell_type": "markdown",
      "source": [
        "# map()"
      ],
      "metadata": {
        "id": "h9_qiXWcumgl"
      }
    },
    {
      "cell_type": "code",
      "source": [
        "# @title finding max between two list\n",
        "\n",
        "lst1 = [4.6, 7.3, 2]\n",
        "lst2 = [9.5, 6.73, 10]\n",
        "\n",
        "list(map(max, lst1, lst2))"
      ],
      "metadata": {
        "colab": {
          "base_uri": "https://localhost:8080/"
        },
        "id": "y-RzV90-urkf",
        "outputId": "5ff9f712-1840-4fca-e565-35a6f598495e"
      },
      "execution_count": null,
      "outputs": [
        {
          "output_type": "execute_result",
          "data": {
            "text/plain": [
              "[9.5, 7.3, 10]"
            ]
          },
          "metadata": {},
          "execution_count": 44
        }
      ]
    },
    {
      "cell_type": "markdown",
      "source": [
        "#lambda"
      ],
      "metadata": {
        "id": "yII3KK50-1oX"
      }
    },
    {
      "cell_type": "code",
      "source": [
        "my_annonimous_func = lambda inp : inp ** 2\n",
        "\n",
        "my_annonimous_func(5)"
      ],
      "metadata": {
        "colab": {
          "base_uri": "https://localhost:8080/"
        },
        "id": "KLJ4SGfq-5gl",
        "outputId": "4fbcc15a-52ca-47d6-defd-6997ecf92bda"
      },
      "execution_count": null,
      "outputs": [
        {
          "output_type": "execute_result",
          "data": {
            "text/plain": [
              "25"
            ]
          },
          "metadata": {},
          "execution_count": 45
        }
      ]
    },
    {
      "cell_type": "markdown",
      "source": [
        "#list comprehensions"
      ],
      "metadata": {
        "id": "REG-7ZmN_h_W"
      }
    },
    {
      "cell_type": "code",
      "source": [
        "letters = \"abc\"\n",
        "digits = \"123\"\n",
        "\n",
        "ids = [(letters[i] + letters[j] + k) for i in range(len(letters)) for j in range(i, len(letters)) for k in digits]\n",
        "print(ids)\n",
        "print(len(ids))"
      ],
      "metadata": {
        "colab": {
          "base_uri": "https://localhost:8080/"
        },
        "id": "hUfrEM2D_lUj",
        "outputId": "774c2e4d-b070-4692-a308-61a8085ffc28"
      },
      "execution_count": null,
      "outputs": [
        {
          "output_type": "stream",
          "name": "stdout",
          "text": [
            "['aa1', 'aa2', 'aa3', 'ab1', 'ab2', 'ab3', 'ac1', 'ac2', 'ac3', 'bb1', 'bb2', 'bb3', 'bc1', 'bc2', 'bc3', 'cc1', 'cc2', 'cc3']\n",
            "18\n"
          ]
        }
      ]
    },
    {
      "cell_type": "markdown",
      "source": [
        "#Numpy"
      ],
      "metadata": {
        "id": "o8elCB73B7mo"
      }
    },
    {
      "cell_type": "code",
      "source": [
        "#@title importing libraries\n",
        "import numpy as np\n",
        "import math"
      ],
      "metadata": {
        "id": "0kmEhYAsB-Y_"
      },
      "execution_count": null,
      "outputs": []
    },
    {
      "cell_type": "code",
      "source": [
        "#@title creating arrays\n",
        "\n",
        "test_array = np.array([1, 2, 3, 4])\n",
        "print(test_array)\n",
        "print(test_array.ndim)"
      ],
      "metadata": {
        "colab": {
          "base_uri": "https://localhost:8080/"
        },
        "id": "3BoWPVsTCC4N",
        "outputId": "f2c208ae-c68e-4470-d2a1-a298767a9c90"
      },
      "execution_count": null,
      "outputs": [
        {
          "output_type": "stream",
          "name": "stdout",
          "text": [
            "[1 2 3 4]\n",
            "1\n"
          ]
        }
      ]
    },
    {
      "cell_type": "code",
      "source": [
        "#@title 2d array\n",
        "\n",
        "two_d_array = np.array([[1, 2, 3], [5, 3, 7.9]])\n",
        "\n",
        "print(two_d_array.ndim)"
      ],
      "metadata": {
        "colab": {
          "base_uri": "https://localhost:8080/"
        },
        "id": "P7fbVU9CCfuQ",
        "outputId": "7d86c0bf-8793-4ad7-f3ce-9fc1c8afa98a"
      },
      "execution_count": null,
      "outputs": [
        {
          "output_type": "stream",
          "name": "stdout",
          "text": [
            "2\n"
          ]
        }
      ]
    },
    {
      "cell_type": "code",
      "source": [
        "#@title shape of an array\n",
        "\n",
        "two_d_array.shape"
      ],
      "metadata": {
        "colab": {
          "base_uri": "https://localhost:8080/"
        },
        "id": "2OR4FfADDQr3",
        "outputId": "68306f5b-1fae-4887-d7c8-34b531a530eb"
      },
      "execution_count": null,
      "outputs": [
        {
          "output_type": "execute_result",
          "data": {
            "text/plain": [
              "(2, 3)"
            ]
          },
          "metadata": {},
          "execution_count": 5
        }
      ]
    },
    {
      "cell_type": "code",
      "source": [
        "two_d_array.dtype"
      ],
      "metadata": {
        "colab": {
          "base_uri": "https://localhost:8080/"
        },
        "id": "KHrKtgznDfT4",
        "outputId": "c1deaf77-5407-4249-a9a5-f33b6195d3c7"
      },
      "execution_count": null,
      "outputs": [
        {
          "output_type": "execute_result",
          "data": {
            "text/plain": [
              "dtype('float64')"
            ]
          },
          "metadata": {},
          "execution_count": 6
        }
      ]
    },
    {
      "cell_type": "markdown",
      "source": [
        "##place holders"
      ],
      "metadata": {
        "id": "InvC-NRTcKSE"
      }
    },
    {
      "cell_type": "code",
      "source": [
        "#@title filling array with ones\n",
        "\n",
        "np.ones((2, 3))"
      ],
      "metadata": {
        "colab": {
          "base_uri": "https://localhost:8080/"
        },
        "id": "qAN9SzeRcMok",
        "outputId": "50515796-77ab-46f2-d1a0-a16afaf38f88"
      },
      "execution_count": null,
      "outputs": [
        {
          "output_type": "execute_result",
          "data": {
            "text/plain": [
              "array([[1., 1., 1.],\n",
              "       [1., 1., 1.]])"
            ]
          },
          "metadata": {},
          "execution_count": 7
        }
      ]
    },
    {
      "cell_type": "code",
      "source": [
        "#@title filling array with zeros\n",
        "\n",
        "np.zeros((2, 3, 4))"
      ],
      "metadata": {
        "colab": {
          "base_uri": "https://localhost:8080/"
        },
        "id": "J4D51vhFcZHJ",
        "outputId": "686b0b2a-4e72-4d74-c28c-0f5805538ae2"
      },
      "execution_count": null,
      "outputs": [
        {
          "output_type": "execute_result",
          "data": {
            "text/plain": [
              "array([[[0., 0., 0., 0.],\n",
              "        [0., 0., 0., 0.],\n",
              "        [0., 0., 0., 0.]],\n",
              "\n",
              "       [[0., 0., 0., 0.],\n",
              "        [0., 0., 0., 0.],\n",
              "        [0., 0., 0., 0.]]])"
            ]
          },
          "metadata": {},
          "execution_count": 8
        }
      ]
    },
    {
      "cell_type": "code",
      "source": [
        "#@title filling with random uniform numbers between 0 up to 1\n",
        "\n",
        "np.random.rand(2, 3)"
      ],
      "metadata": {
        "colab": {
          "base_uri": "https://localhost:8080/"
        },
        "id": "XA14t8ofchTB",
        "outputId": "fa42b07b-a369-4001-bcb5-04d29cb7801a"
      },
      "execution_count": null,
      "outputs": [
        {
          "output_type": "execute_result",
          "data": {
            "text/plain": [
              "array([[0.8580616 , 0.11067739, 0.4607176 ],\n",
              "       [0.36152515, 0.49887376, 0.56040644]])"
            ]
          },
          "metadata": {},
          "execution_count": 9
        }
      ]
    },
    {
      "cell_type": "code",
      "source": [],
      "metadata": {
        "id": "PE4IlWBEcr6N"
      },
      "execution_count": null,
      "outputs": []
    },
    {
      "cell_type": "markdown",
      "source": [
        "##sequence of numbers"
      ],
      "metadata": {
        "id": "XUxMxf_sf5-f"
      }
    },
    {
      "cell_type": "code",
      "source": [
        "#@title sequence of numbers with defines step(end excluded)\n",
        "\n",
        "np.arange(10, 50, 2)# even numbers from 10 to 48"
      ],
      "metadata": {
        "colab": {
          "base_uri": "https://localhost:8080/"
        },
        "id": "lE63XSnaf-Vv",
        "outputId": "a0d68afe-856a-40f2-9540-220ba91ff426"
      },
      "execution_count": null,
      "outputs": [
        {
          "output_type": "execute_result",
          "data": {
            "text/plain": [
              "array([10, 12, 14, 16, 18, 20, 22, 24, 26, 28, 30, 32, 34, 36, 38, 40, 42,\n",
              "       44, 46, 48])"
            ]
          },
          "metadata": {},
          "execution_count": 10
        }
      ]
    },
    {
      "cell_type": "code",
      "source": [
        "#@title sequence of numers(float) with defined quantitie\n",
        "\n",
        "np.linspace(0, 2, 15)# generaiting 15 float numbers betweeen 0 to 2"
      ],
      "metadata": {
        "colab": {
          "base_uri": "https://localhost:8080/"
        },
        "id": "kxgnwQnWgU6i",
        "outputId": "30ffff74-e663-4f5b-ed98-e13532cfe580"
      },
      "execution_count": null,
      "outputs": [
        {
          "output_type": "execute_result",
          "data": {
            "text/plain": [
              "array([0.        , 0.14285714, 0.28571429, 0.42857143, 0.57142857,\n",
              "       0.71428571, 0.85714286, 1.        , 1.14285714, 1.28571429,\n",
              "       1.42857143, 1.57142857, 1.71428571, 1.85714286, 2.        ])"
            ]
          },
          "metadata": {},
          "execution_count": 11
        }
      ]
    },
    {
      "cell_type": "markdown",
      "source": [
        "##Array oparaitions"
      ],
      "metadata": {
        "id": "ze-_A41HhCOz"
      }
    },
    {
      "cell_type": "markdown",
      "source": [
        "So, we can do many things on arrays, such as mathematical manipulation, addition, subtraction, square, exponents, as well as Boolean arrays, which are binary values. And we can also do matrix manipulations, such as product transpose, inverse and so forth"
      ],
      "metadata": {
        "id": "X2js4QluhJ4K"
      }
    },
    {
      "cell_type": "code",
      "source": [
        "#@title arithmetic applied on asrray elementwise\n",
        "\n",
        "a = np.array([[1, 2, 3], [3, 5, 6]])\n",
        "b = np.array([[4.6, 2.3, 7.8], [5, 6.2, 9.0]])\n",
        "\n",
        "print(\"sum of a and b : {}\".format(a + b))\n",
        "\n",
        "print(\"subtraction of b and : {}\".format(b - a))\n",
        "\n",
        "print(\"a to the power of b :{}\".format(a ** b))\n",
        "\n",
        "print(\"multiplicationn of a and b : {}\".format(a * b))"
      ],
      "metadata": {
        "colab": {
          "base_uri": "https://localhost:8080/"
        },
        "id": "CGe5fOifhGbU",
        "outputId": "76aae263-8050-4b9c-e9d9-6c0fda400ff3"
      },
      "execution_count": null,
      "outputs": [
        {
          "output_type": "stream",
          "name": "stdout",
          "text": [
            "sum of a and b : [[ 5.6  4.3 10.8]\n",
            " [ 8.  11.2 15. ]]\n",
            "subtraction of b and : [[3.6 0.3 4.8]\n",
            " [2.  1.2 3. ]]\n",
            "a to the power of b :[[1.00000000e+00 4.92457765e+00 5.26678739e+03]\n",
            " [2.43000000e+02 2.15582760e+04 1.00776960e+07]]\n",
            "multiplicationn of a and b : [[ 4.6  4.6 23.4]\n",
            " [15.  31.  54. ]]\n"
          ]
        }
      ]
    },
    {
      "cell_type": "code",
      "source": [
        "#@title non_elemnt wise matrix multiplication\n",
        "\n",
        "m1 = np.array([[1, 2], [3, 4]])\n",
        "m2 = np.array([[6, 7], [9, 0]])\n",
        "\n",
        "print(m1@m2)"
      ],
      "metadata": {
        "id": "FvV8vvrPlgEE",
        "colab": {
          "base_uri": "https://localhost:8080/"
        },
        "outputId": "3f6c4cc3-081e-4b65-feeb-d44a3cfd7bf0"
      },
      "execution_count": null,
      "outputs": [
        {
          "output_type": "stream",
          "name": "stdout",
          "text": [
            "[[24  7]\n",
            " [54 21]]\n"
          ]
        }
      ]
    },
    {
      "cell_type": "markdown",
      "source": [
        "###example\n",
        "convert array of farenheit to celcius"
      ],
      "metadata": {
        "id": "c33OGUW1kDBK"
      }
    },
    {
      "cell_type": "code",
      "source": [
        "farenheit = np.array([10, 0, -0.5, 3, 5])#creating an array of tempreture in farenheit\n",
        "\n",
        "celcius = (farenheit - 32) * (5 / 9)\n",
        "\n",
        "print(celcius)"
      ],
      "metadata": {
        "colab": {
          "base_uri": "https://localhost:8080/"
        },
        "id": "uXzIYIL2jEOT",
        "outputId": "e69504fd-e5fe-4c98-9b51-5ce8b3659242"
      },
      "execution_count": null,
      "outputs": [
        {
          "output_type": "stream",
          "name": "stdout",
          "text": [
            "[-12.22222222 -17.77777778 -18.05555556 -16.11111111 -15.        ]\n"
          ]
        }
      ]
    },
    {
      "cell_type": "markdown",
      "source": [
        "###boolean array\n",
        "Another useful and important manipulation is the Boolean array. We can apply an operator on an array and a Boolean array will be returned for any element in the original with true being emitted if it meets the condition. For instance, if we want to get a Boolean array to check the Celsius degrees that are greater than minus 20 degrees, we will just say Celsius is greater than minus 20"
      ],
      "metadata": {
        "id": "OBZaEmGSlB9R"
      }
    },
    {
      "cell_type": "code",
      "source": [
        "print(celcius < -17)"
      ],
      "metadata": {
        "colab": {
          "base_uri": "https://localhost:8080/"
        },
        "id": "ahsqdT_mkymo",
        "outputId": "0ee0de45-f3ed-4be6-e729-54a6a3a994c0"
      },
      "execution_count": null,
      "outputs": [
        {
          "output_type": "stream",
          "name": "stdout",
          "text": [
            "[False  True  True False False]\n"
          ]
        }
      ]
    },
    {
      "cell_type": "markdown",
      "source": [
        "###aggregation functions\n",
        "\n",
        "Now, numpy arrays also have an interesting aggregation functions on them, such as sum, max, min and mean"
      ],
      "metadata": {
        "id": "bvmuTWlNsD_g"
      }
    },
    {
      "cell_type": "code",
      "source": [
        "array1 = np.array([[1, 3], 4])\n",
        "\n",
        "array2 = np.array([[3, 3], [9, 5]])\n",
        "\n",
        "array3 = np.array([[4, 5, 6], [7, 6]])"
      ],
      "metadata": {
        "colab": {
          "base_uri": "https://localhost:8080/"
        },
        "id": "0cM_nNLFsgV9",
        "outputId": "858f0828-19e0-477b-d5a4-71eb7c6dd209"
      },
      "execution_count": null,
      "outputs": [
        {
          "output_type": "stream",
          "name": "stderr",
          "text": [
            "<ipython-input-18-370403693bad>:1: VisibleDeprecationWarning: Creating an ndarray from ragged nested sequences (which is a list-or-tuple of lists-or-tuples-or ndarrays with different lengths or shapes) is deprecated. If you meant to do this, you must specify 'dtype=object' when creating the ndarray.\n",
            "  array1 = np.array([[1, 3], 4])\n",
            "<ipython-input-18-370403693bad>:5: VisibleDeprecationWarning: Creating an ndarray from ragged nested sequences (which is a list-or-tuple of lists-or-tuples-or ndarrays with different lengths or shapes) is deprecated. If you meant to do this, you must specify 'dtype=object' when creating the ndarray.\n",
            "  array3 = np.array([[4, 5, 6], [7, 6]])\n"
          ]
        }
      ]
    },
    {
      "cell_type": "code",
      "source": [
        "#@title sum()\n",
        "\n",
        "print(array3)\n",
        "print(array3.sum())\n",
        "\n",
        "print(array2)\n",
        "print(array2.sum())\n",
        "\n",
        "print(array1)\n",
        "print(array1.sum())"
      ],
      "metadata": {
        "colab": {
          "base_uri": "https://localhost:8080/",
          "height": 435
        },
        "id": "uArG_IepsMki",
        "outputId": "4a804337-9e5e-48ae-d187-aeec8e4a1f1b"
      },
      "execution_count": null,
      "outputs": [
        {
          "output_type": "stream",
          "name": "stdout",
          "text": [
            "[list([4, 5, 6]) list([7, 6])]\n",
            "[4, 5, 6, 7, 6]\n",
            "[[3 3]\n",
            " [9 5]]\n",
            "20\n",
            "[list([1, 3]) 4]\n"
          ]
        },
        {
          "output_type": "error",
          "ename": "TypeError",
          "evalue": "ignored",
          "traceback": [
            "\u001b[0;31m---------------------------------------------------------------------------\u001b[0m",
            "\u001b[0;31mTypeError\u001b[0m                                 Traceback (most recent call last)",
            "\u001b[0;32m<ipython-input-23-ba4ccca42a7c>\u001b[0m in \u001b[0;36m<cell line: 10>\u001b[0;34m()\u001b[0m\n\u001b[1;32m      8\u001b[0m \u001b[0;34m\u001b[0m\u001b[0m\n\u001b[1;32m      9\u001b[0m \u001b[0mprint\u001b[0m\u001b[0;34m(\u001b[0m\u001b[0marray1\u001b[0m\u001b[0;34m)\u001b[0m\u001b[0;34m\u001b[0m\u001b[0;34m\u001b[0m\u001b[0m\n\u001b[0;32m---> 10\u001b[0;31m \u001b[0mprint\u001b[0m\u001b[0;34m(\u001b[0m\u001b[0marray1\u001b[0m\u001b[0;34m.\u001b[0m\u001b[0msum\u001b[0m\u001b[0;34m(\u001b[0m\u001b[0;34m)\u001b[0m\u001b[0;34m)\u001b[0m\u001b[0;34m\u001b[0m\u001b[0;34m\u001b[0m\u001b[0m\n\u001b[0m",
            "\u001b[0;32m/usr/local/lib/python3.10/dist-packages/numpy/core/_methods.py\u001b[0m in \u001b[0;36m_sum\u001b[0;34m(a, axis, dtype, out, keepdims, initial, where)\u001b[0m\n\u001b[1;32m     46\u001b[0m def _sum(a, axis=None, dtype=None, out=None, keepdims=False,\n\u001b[1;32m     47\u001b[0m          initial=_NoValue, where=True):\n\u001b[0;32m---> 48\u001b[0;31m     \u001b[0;32mreturn\u001b[0m \u001b[0mumr_sum\u001b[0m\u001b[0;34m(\u001b[0m\u001b[0ma\u001b[0m\u001b[0;34m,\u001b[0m \u001b[0maxis\u001b[0m\u001b[0;34m,\u001b[0m \u001b[0mdtype\u001b[0m\u001b[0;34m,\u001b[0m \u001b[0mout\u001b[0m\u001b[0;34m,\u001b[0m \u001b[0mkeepdims\u001b[0m\u001b[0;34m,\u001b[0m \u001b[0minitial\u001b[0m\u001b[0;34m,\u001b[0m \u001b[0mwhere\u001b[0m\u001b[0;34m)\u001b[0m\u001b[0;34m\u001b[0m\u001b[0;34m\u001b[0m\u001b[0m\n\u001b[0m\u001b[1;32m     49\u001b[0m \u001b[0;34m\u001b[0m\u001b[0m\n\u001b[1;32m     50\u001b[0m def _prod(a, axis=None, dtype=None, out=None, keepdims=False,\n",
            "\u001b[0;31mTypeError\u001b[0m: can only concatenate list (not \"int\") to list"
          ]
        }
      ]
    },
    {
      "cell_type": "code",
      "source": [
        "#@title max and min\n",
        "\n",
        "print(array2)\n",
        "print(array2.min(), array2.max())\n",
        "\n",
        "print(array3)#[[4, 5, 6], [7, 6]]\n",
        "print(array3.min(), array3.max())\n",
        "\n",
        "array4 = np.array([[7, 6, 8], [7, 6]])\n",
        "print(array4.min(), array4.max())\n",
        "\n",
        "print(array1)\n",
        "print(array1.min(), array1.max())"
      ],
      "metadata": {
        "colab": {
          "base_uri": "https://localhost:8080/",
          "height": 507
        },
        "id": "-jnxmLLGs28z",
        "outputId": "74f6185c-41d0-4a3c-d4c0-ebeb0c67a6ec"
      },
      "execution_count": null,
      "outputs": [
        {
          "output_type": "stream",
          "name": "stdout",
          "text": [
            "[[3 3]\n",
            " [9 5]]\n",
            "3 9\n",
            "[list([4, 5, 6]) list([7, 6])]\n",
            "[4, 5, 6] [7, 6]\n",
            "[7, 6] [7, 6, 8]\n",
            "[list([1, 3]) 4]\n"
          ]
        },
        {
          "output_type": "stream",
          "name": "stderr",
          "text": [
            "<ipython-input-34-c842755f449c>:9: VisibleDeprecationWarning: Creating an ndarray from ragged nested sequences (which is a list-or-tuple of lists-or-tuples-or ndarrays with different lengths or shapes) is deprecated. If you meant to do this, you must specify 'dtype=object' when creating the ndarray.\n",
            "  array4 = np.array([[7, 6, 8], [7, 6]])\n"
          ]
        },
        {
          "output_type": "error",
          "ename": "TypeError",
          "evalue": "ignored",
          "traceback": [
            "\u001b[0;31m---------------------------------------------------------------------------\u001b[0m",
            "\u001b[0;31mTypeError\u001b[0m                                 Traceback (most recent call last)",
            "\u001b[0;32m<ipython-input-34-c842755f449c>\u001b[0m in \u001b[0;36m<cell line: 13>\u001b[0;34m()\u001b[0m\n\u001b[1;32m     11\u001b[0m \u001b[0;34m\u001b[0m\u001b[0m\n\u001b[1;32m     12\u001b[0m \u001b[0mprint\u001b[0m\u001b[0;34m(\u001b[0m\u001b[0marray1\u001b[0m\u001b[0;34m)\u001b[0m\u001b[0;34m\u001b[0m\u001b[0;34m\u001b[0m\u001b[0m\n\u001b[0;32m---> 13\u001b[0;31m \u001b[0mprint\u001b[0m\u001b[0;34m(\u001b[0m\u001b[0marray1\u001b[0m\u001b[0;34m.\u001b[0m\u001b[0mmin\u001b[0m\u001b[0;34m(\u001b[0m\u001b[0;34m)\u001b[0m\u001b[0;34m,\u001b[0m \u001b[0marray1\u001b[0m\u001b[0;34m.\u001b[0m\u001b[0mmax\u001b[0m\u001b[0;34m(\u001b[0m\u001b[0;34m)\u001b[0m\u001b[0;34m)\u001b[0m\u001b[0;34m\u001b[0m\u001b[0;34m\u001b[0m\u001b[0m\n\u001b[0m",
            "\u001b[0;32m/usr/local/lib/python3.10/dist-packages/numpy/core/_methods.py\u001b[0m in \u001b[0;36m_amin\u001b[0;34m(a, axis, out, keepdims, initial, where)\u001b[0m\n\u001b[1;32m     42\u001b[0m def _amin(a, axis=None, out=None, keepdims=False,\n\u001b[1;32m     43\u001b[0m           initial=_NoValue, where=True):\n\u001b[0;32m---> 44\u001b[0;31m     \u001b[0;32mreturn\u001b[0m \u001b[0mumr_minimum\u001b[0m\u001b[0;34m(\u001b[0m\u001b[0ma\u001b[0m\u001b[0;34m,\u001b[0m \u001b[0maxis\u001b[0m\u001b[0;34m,\u001b[0m \u001b[0;32mNone\u001b[0m\u001b[0;34m,\u001b[0m \u001b[0mout\u001b[0m\u001b[0;34m,\u001b[0m \u001b[0mkeepdims\u001b[0m\u001b[0;34m,\u001b[0m \u001b[0minitial\u001b[0m\u001b[0;34m,\u001b[0m \u001b[0mwhere\u001b[0m\u001b[0;34m)\u001b[0m\u001b[0;34m\u001b[0m\u001b[0;34m\u001b[0m\u001b[0m\n\u001b[0m\u001b[1;32m     45\u001b[0m \u001b[0;34m\u001b[0m\u001b[0m\n\u001b[1;32m     46\u001b[0m def _sum(a, axis=None, dtype=None, out=None, keepdims=False,\n",
            "\u001b[0;31mTypeError\u001b[0m: '<=' not supported between instances of 'list' and 'int'"
          ]
        }
      ]
    },
    {
      "cell_type": "code",
      "source": [
        "#@title mean()\n",
        "\n",
        "print(array2)\n",
        "print(array2.mean())\n",
        "\n",
        "print(array3)\n",
        "print(array3.mean())\n",
        "\n",
        "\n",
        "print(array1)\n",
        "print(array1.mean())"
      ],
      "metadata": {
        "colab": {
          "base_uri": "https://localhost:8080/",
          "height": 435
        },
        "id": "duY01KhHtqka",
        "outputId": "d645c23b-fe48-499d-8dc6-b0309fd2eb04"
      },
      "execution_count": null,
      "outputs": [
        {
          "output_type": "stream",
          "name": "stdout",
          "text": [
            "[[3 3]\n",
            " [9 5]]\n",
            "5.0\n",
            "[list([4, 5, 6]) list([7, 6])]\n",
            "[2.  2.5 3.  3.5 3. ]\n",
            "[list([1, 3]) 4]\n"
          ]
        },
        {
          "output_type": "error",
          "ename": "TypeError",
          "evalue": "ignored",
          "traceback": [
            "\u001b[0;31m---------------------------------------------------------------------------\u001b[0m",
            "\u001b[0;31mTypeError\u001b[0m                                 Traceback (most recent call last)",
            "\u001b[0;32m<ipython-input-37-a92287477f07>\u001b[0m in \u001b[0;36m<cell line: 11>\u001b[0;34m()\u001b[0m\n\u001b[1;32m      9\u001b[0m \u001b[0;34m\u001b[0m\u001b[0m\n\u001b[1;32m     10\u001b[0m \u001b[0mprint\u001b[0m\u001b[0;34m(\u001b[0m\u001b[0marray1\u001b[0m\u001b[0;34m)\u001b[0m\u001b[0;34m\u001b[0m\u001b[0;34m\u001b[0m\u001b[0m\n\u001b[0;32m---> 11\u001b[0;31m \u001b[0mprint\u001b[0m\u001b[0;34m(\u001b[0m\u001b[0marray1\u001b[0m\u001b[0;34m.\u001b[0m\u001b[0mmean\u001b[0m\u001b[0;34m(\u001b[0m\u001b[0;34m)\u001b[0m\u001b[0;34m)\u001b[0m\u001b[0;34m\u001b[0m\u001b[0;34m\u001b[0m\u001b[0m\n\u001b[0m",
            "\u001b[0;32m/usr/local/lib/python3.10/dist-packages/numpy/core/_methods.py\u001b[0m in \u001b[0;36m_mean\u001b[0;34m(a, axis, dtype, out, keepdims, where)\u001b[0m\n\u001b[1;32m    178\u001b[0m             \u001b[0mis_float16_result\u001b[0m \u001b[0;34m=\u001b[0m \u001b[0;32mTrue\u001b[0m\u001b[0;34m\u001b[0m\u001b[0;34m\u001b[0m\u001b[0m\n\u001b[1;32m    179\u001b[0m \u001b[0;34m\u001b[0m\u001b[0m\n\u001b[0;32m--> 180\u001b[0;31m     \u001b[0mret\u001b[0m \u001b[0;34m=\u001b[0m \u001b[0mumr_sum\u001b[0m\u001b[0;34m(\u001b[0m\u001b[0marr\u001b[0m\u001b[0;34m,\u001b[0m \u001b[0maxis\u001b[0m\u001b[0;34m,\u001b[0m \u001b[0mdtype\u001b[0m\u001b[0;34m,\u001b[0m \u001b[0mout\u001b[0m\u001b[0;34m,\u001b[0m \u001b[0mkeepdims\u001b[0m\u001b[0;34m,\u001b[0m \u001b[0mwhere\u001b[0m\u001b[0;34m=\u001b[0m\u001b[0mwhere\u001b[0m\u001b[0;34m)\u001b[0m\u001b[0;34m\u001b[0m\u001b[0;34m\u001b[0m\u001b[0m\n\u001b[0m\u001b[1;32m    181\u001b[0m     \u001b[0;32mif\u001b[0m \u001b[0misinstance\u001b[0m\u001b[0;34m(\u001b[0m\u001b[0mret\u001b[0m\u001b[0;34m,\u001b[0m \u001b[0mmu\u001b[0m\u001b[0;34m.\u001b[0m\u001b[0mndarray\u001b[0m\u001b[0;34m)\u001b[0m\u001b[0;34m:\u001b[0m\u001b[0;34m\u001b[0m\u001b[0;34m\u001b[0m\u001b[0m\n\u001b[1;32m    182\u001b[0m         ret = um.true_divide(\n",
            "\u001b[0;31mTypeError\u001b[0m: can only concatenate list (not \"int\") to list"
          ]
        }
      ]
    },
    {
      "cell_type": "markdown",
      "source": [
        "##indexing , slicing and itteraiting"
      ],
      "metadata": {
        "id": "18likiVV6KK-"
      }
    },
    {
      "cell_type": "markdown",
      "source": [
        "###indexing"
      ],
      "metadata": {
        "id": "2aW9zWd_6kFd"
      }
    },
    {
      "cell_type": "code",
      "source": [
        "array = np.array([[1, 2, 3], [2, 4, 1], [3, 14, 13.2]])"
      ],
      "metadata": {
        "id": "xeylxCEuv5x2"
      },
      "execution_count": null,
      "outputs": []
    },
    {
      "cell_type": "code",
      "source": [
        "array[1, 2]"
      ],
      "metadata": {
        "colab": {
          "base_uri": "https://localhost:8080/"
        },
        "id": "SNxb8tMn6x55",
        "outputId": "8a3df3c9-dcf8-440c-e40d-fc356cd2ed68"
      },
      "execution_count": null,
      "outputs": [
        {
          "output_type": "execute_result",
          "data": {
            "text/plain": [
              "1.0"
            ]
          },
          "metadata": {},
          "execution_count": 39
        }
      ]
    },
    {
      "cell_type": "code",
      "source": [
        "array[[0, 1], [2, 1]]"
      ],
      "metadata": {
        "colab": {
          "base_uri": "https://localhost:8080/"
        },
        "id": "kYAgqwhV62jm",
        "outputId": "e040e982-8685-4a42-9d51-9793f69ce33b"
      },
      "execution_count": null,
      "outputs": [
        {
          "output_type": "execute_result",
          "data": {
            "text/plain": [
              "array([3., 4.])"
            ]
          },
          "metadata": {},
          "execution_count": 40
        }
      ]
    },
    {
      "cell_type": "markdown",
      "source": [
        "####boolean indexing"
      ],
      "metadata": {
        "id": "F7x70H3A7lA_"
      }
    },
    {
      "cell_type": "code",
      "source": [
        "array[array >= 4]"
      ],
      "metadata": {
        "colab": {
          "base_uri": "https://localhost:8080/"
        },
        "id": "E5iImqcS6-CS",
        "outputId": "5016c7e6-6b4c-4e7f-ed0c-31beb7871755"
      },
      "execution_count": null,
      "outputs": [
        {
          "output_type": "execute_result",
          "data": {
            "text/plain": [
              "array([ 4. , 14. , 13.2])"
            ]
          },
          "metadata": {},
          "execution_count": 42
        }
      ]
    },
    {
      "cell_type": "markdown",
      "source": [
        "###slicing\n",
        "\n",
        "It's important to realize that a slice of an array is a view into the same data. This is really important, this is called passing by reference. So, modifying the sub array will consequently modify the original array as well."
      ],
      "metadata": {
        "id": "Cer0Ln3t87_F"
      }
    },
    {
      "cell_type": "code",
      "source": [
        "array = np.array([[1, 2, 3], [2, 4, 1], [3, 14, 13.2]])"
      ],
      "metadata": {
        "id": "Ynk-Jib37tEq"
      },
      "execution_count": null,
      "outputs": []
    },
    {
      "cell_type": "code",
      "source": [
        "array[0]"
      ],
      "metadata": {
        "colab": {
          "base_uri": "https://localhost:8080/"
        },
        "id": "l6Eypu0I9FGJ",
        "outputId": "84215182-c3f4-44ea-e5fe-1ef368c04b12"
      },
      "execution_count": null,
      "outputs": [
        {
          "output_type": "execute_result",
          "data": {
            "text/plain": [
              "array([1., 2., 3.])"
            ]
          },
          "metadata": {},
          "execution_count": 44
        }
      ]
    },
    {
      "cell_type": "code",
      "source": [
        "array[:, 2:]"
      ],
      "metadata": {
        "colab": {
          "base_uri": "https://localhost:8080/"
        },
        "id": "QCCa8Eyn9Iwe",
        "outputId": "b4edfdfb-b1fe-4adf-9fa1-052072c0f2d6"
      },
      "execution_count": null,
      "outputs": [
        {
          "output_type": "execute_result",
          "data": {
            "text/plain": [
              "array([[ 3. ],\n",
              "       [ 1. ],\n",
              "       [13.2]])"
            ]
          },
          "metadata": {},
          "execution_count": 45
        }
      ]
    },
    {
      "cell_type": "code",
      "source": [
        "a = array[:, 2:]\n",
        "\n",
        "a[1,0] = 100\n",
        "\n",
        "array"
      ],
      "metadata": {
        "colab": {
          "base_uri": "https://localhost:8080/"
        },
        "id": "U5lBq8uh9OeB",
        "outputId": "9e20740f-cf21-4b4c-cd47-dc23f299fdae"
      },
      "execution_count": null,
      "outputs": [
        {
          "output_type": "execute_result",
          "data": {
            "text/plain": [
              "array([[  1. ,   2. ,   3. ],\n",
              "       [  2. ,   4. , 100. ],\n",
              "       [  3. ,  14. ,  13.2]])"
            ]
          },
          "metadata": {},
          "execution_count": 47
        }
      ]
    },
    {
      "cell_type": "markdown",
      "source": [
        "## working with datasets"
      ],
      "metadata": {
        "id": "6tcONAQaDQnm"
      }
    },
    {
      "cell_type": "code",
      "source": [
        "wines_data = np.genfromtxt(\"files/course1/winequality-red.csv\", delimiter=';', skip_header=True)"
      ],
      "metadata": {
        "id": "9ij9ffT19bI-"
      },
      "execution_count": null,
      "outputs": []
    },
    {
      "cell_type": "code",
      "source": [
        "wines_data"
      ],
      "metadata": {
        "colab": {
          "base_uri": "https://localhost:8080/"
        },
        "id": "hHDjt3nWHdV-",
        "outputId": "67a325d3-2f2e-4565-bd94-744b8a31faca"
      },
      "execution_count": null,
      "outputs": [
        {
          "output_type": "execute_result",
          "data": {
            "text/plain": [
              "array([[ 7.4  ,  0.7  ,  0.   , ...,  0.56 ,  9.4  ,  5.   ],\n",
              "       [ 7.8  ,  0.88 ,  0.   , ...,  0.68 ,  9.8  ,  5.   ],\n",
              "       [ 7.8  ,  0.76 ,  0.04 , ...,  0.65 ,  9.8  ,  5.   ],\n",
              "       ...,\n",
              "       [ 6.3  ,  0.51 ,  0.13 , ...,  0.75 , 11.   ,  6.   ],\n",
              "       [ 5.9  ,  0.645,  0.12 , ...,  0.71 , 10.2  ,  5.   ],\n",
              "       [ 6.   ,  0.31 ,  0.47 , ...,  0.66 , 11.   ,  6.   ]])"
            ]
          },
          "metadata": {},
          "execution_count": 52
        }
      ]
    },
    {
      "cell_type": "code",
      "source": [
        "wines_data[:, 0]"
      ],
      "metadata": {
        "colab": {
          "base_uri": "https://localhost:8080/"
        },
        "id": "laXozjC6HiCT",
        "outputId": "6901789e-000f-4e13-b3ed-2b56f7a228a9"
      },
      "execution_count": null,
      "outputs": [
        {
          "output_type": "execute_result",
          "data": {
            "text/plain": [
              "array([7.4, 7.8, 7.8, ..., 6.3, 5.9, 6. ])"
            ]
          },
          "metadata": {},
          "execution_count": 53
        }
      ]
    },
    {
      "cell_type": "code",
      "source": [
        "wines_data[:, :1]"
      ],
      "metadata": {
        "colab": {
          "base_uri": "https://localhost:8080/"
        },
        "id": "z5BLjPOKHukb",
        "outputId": "07b73f67-8460-4a40-c793-41245403574d"
      },
      "execution_count": null,
      "outputs": [
        {
          "output_type": "execute_result",
          "data": {
            "text/plain": [
              "array([[7.4],\n",
              "       [7.8],\n",
              "       [7.8],\n",
              "       ...,\n",
              "       [6.3],\n",
              "       [5.9],\n",
              "       [6. ]])"
            ]
          },
          "metadata": {},
          "execution_count": 54
        }
      ]
    },
    {
      "cell_type": "code",
      "source": [
        "wines_data"
      ],
      "metadata": {
        "colab": {
          "base_uri": "https://localhost:8080/"
        },
        "id": "sHz6Hn20HyzY",
        "outputId": "38deb431-a9d6-46e6-efe4-1c7fc7a315cb"
      },
      "execution_count": null,
      "outputs": [
        {
          "output_type": "execute_result",
          "data": {
            "text/plain": [
              "array([[ 7.4  ,  0.7  ,  0.   , ...,  0.56 ,  9.4  ,  5.   ],\n",
              "       [ 7.8  ,  0.88 ,  0.   , ...,  0.68 ,  9.8  ,  5.   ],\n",
              "       [ 7.8  ,  0.76 ,  0.04 , ...,  0.65 ,  9.8  ,  5.   ],\n",
              "       ...,\n",
              "       [ 6.3  ,  0.51 ,  0.13 , ...,  0.75 , 11.   ,  6.   ],\n",
              "       [ 5.9  ,  0.645,  0.12 , ...,  0.71 , 10.2  ,  5.   ],\n",
              "       [ 6.   ,  0.31 ,  0.47 , ...,  0.66 , 11.   ,  6.   ]])"
            ]
          },
          "metadata": {},
          "execution_count": 55
        }
      ]
    },
    {
      "cell_type": "code",
      "source": [
        "wines_data[:, [0, -1]]"
      ],
      "metadata": {
        "colab": {
          "base_uri": "https://localhost:8080/"
        },
        "id": "bPny_KOwUcVC",
        "outputId": "7224b09f-ed3e-4ba7-f3db-9848868212bb"
      },
      "execution_count": null,
      "outputs": [
        {
          "output_type": "execute_result",
          "data": {
            "text/plain": [
              "array([[7.4, 5. ],\n",
              "       [7.8, 5. ],\n",
              "       [7.8, 5. ],\n",
              "       ...,\n",
              "       [6.3, 6. ],\n",
              "       [5.9, 5. ],\n",
              "       [6. , 6. ]])"
            ]
          },
          "metadata": {},
          "execution_count": 56
        }
      ]
    },
    {
      "cell_type": "code",
      "source": [
        "quality = wines_data[:, -1]\n",
        "\n",
        "quality"
      ],
      "metadata": {
        "colab": {
          "base_uri": "https://localhost:8080/"
        },
        "id": "msLVv8DMUh51",
        "outputId": "d7cfd1d2-c0c7-49c2-8f54-6e59e7101fdd"
      },
      "execution_count": null,
      "outputs": [
        {
          "output_type": "execute_result",
          "data": {
            "text/plain": [
              "array([5., 5., 5., ..., 6., 5., 6.])"
            ]
          },
          "metadata": {},
          "execution_count": 57
        }
      ]
    },
    {
      "cell_type": "code",
      "source": [
        "q_mean = quality.mean()\n",
        "\n",
        "q_mean"
      ],
      "metadata": {
        "colab": {
          "base_uri": "https://localhost:8080/"
        },
        "id": "dgl_yRzWU4RU",
        "outputId": "731f8601-25db-4c76-9586-cec95dc67200"
      },
      "execution_count": null,
      "outputs": [
        {
          "output_type": "execute_result",
          "data": {
            "text/plain": [
              "5.6360225140712945"
            ]
          },
          "metadata": {},
          "execution_count": 62
        }
      ]
    },
    {
      "cell_type": "code",
      "source": [
        "quality2 = wines_data[:, -1:]\n",
        "\n",
        "quality2"
      ],
      "metadata": {
        "colab": {
          "base_uri": "https://localhost:8080/"
        },
        "id": "9ImrqXppU20E",
        "outputId": "4c1205f3-bb9a-4a17-f76c-3a66c185b8f8"
      },
      "execution_count": null,
      "outputs": [
        {
          "output_type": "execute_result",
          "data": {
            "text/plain": [
              "array([[5.],\n",
              "       [5.],\n",
              "       [5.],\n",
              "       ...,\n",
              "       [6.],\n",
              "       [5.],\n",
              "       [6.]])"
            ]
          },
          "metadata": {},
          "execution_count": 73
        }
      ]
    },
    {
      "cell_type": "code",
      "source": [
        "quality2.mean() == q_mean"
      ],
      "metadata": {
        "colab": {
          "base_uri": "https://localhost:8080/"
        },
        "id": "j3pJxyOAVNYw",
        "outputId": "e4c428cd-570b-4487-fe1e-91a908880a41"
      },
      "execution_count": null,
      "outputs": [
        {
          "output_type": "execute_result",
          "data": {
            "text/plain": [
              "True"
            ]
          },
          "metadata": {},
          "execution_count": 76
        }
      ]
    },
    {
      "cell_type": "code",
      "source": [
        "wines_data.dtype"
      ],
      "metadata": {
        "colab": {
          "base_uri": "https://localhost:8080/"
        },
        "id": "ZxRajADUVkMC",
        "outputId": "13620367-539a-4181-c20e-1c955022c499"
      },
      "execution_count": null,
      "outputs": [
        {
          "output_type": "execute_result",
          "data": {
            "text/plain": [
              "dtype('float64')"
            ]
          },
          "metadata": {},
          "execution_count": 78
        }
      ]
    },
    {
      "cell_type": "code",
      "source": [
        "admission_data = np.genfromtxt(\"files/course1/Admission_Predict.csv\", delimiter=\",\", skip_header=True,\n",
        "                               names=('Serial No','GRE Score', 'TOEFL Score', 'University Rating', 'SOP',\n",
        "                                          'LOR','CGPA','Research', 'Chance of Admit'))\n",
        "\n",
        "admission_data[:4]"
      ],
      "metadata": {
        "colab": {
          "base_uri": "https://localhost:8080/"
        },
        "id": "Q9wWXdQJWbNT",
        "outputId": "ab9b224a-be12-447f-a508-787e960da644"
      },
      "execution_count": null,
      "outputs": [
        {
          "output_type": "execute_result",
          "data": {
            "text/plain": [
              "array([(1., 337., 118., 4., 4.5, 4.5, 9.65, 1., 0.92),\n",
              "       (2., 324., 107., 4., 4. , 4.5, 8.87, 1., 0.76),\n",
              "       (3., 316., 104., 3., 3. , 3.5, 8.  , 1., 0.72),\n",
              "       (4., 322., 110., 3., 3.5, 2.5, 8.67, 1., 0.8 )],\n",
              "      dtype=[('Serial_No', '<f8'), ('GRE_Score', '<f8'), ('TOEFL_Score', '<f8'), ('University_Rating', '<f8'), ('SOP', '<f8'), ('LOR', '<f8'), ('CGPA', '<f8'), ('Research', '<f8'), ('Chance_of_Admit', '<f8')])"
            ]
          },
          "metadata": {},
          "execution_count": 82
        }
      ]
    },
    {
      "cell_type": "code",
      "source": [
        "admission_data.dtype"
      ],
      "metadata": {
        "colab": {
          "base_uri": "https://localhost:8080/"
        },
        "id": "pmvnnwKxZWPh",
        "outputId": "4e1dfe9a-0a40-4838-e1d6-9b9f3c156af1"
      },
      "execution_count": null,
      "outputs": [
        {
          "output_type": "execute_result",
          "data": {
            "text/plain": [
              "dtype([('Serial_No', '<f8'), ('GRE_Score', '<f8'), ('TOEFL_Score', '<f8'), ('University_Rating', '<f8'), ('SOP', '<f8'), ('LOR', '<f8'), ('CGPA', '<f8'), ('Research', '<f8'), ('Chance_of_Admit', '<f8')])"
            ]
          },
          "metadata": {},
          "execution_count": 83
        }
      ]
    },
    {
      "cell_type": "code",
      "source": [
        "admission_data = np.genfromtxt(\"files/course1/Admission_Predict.csv\", delimiter=\",\", skip_header=True,\n",
        "                               names=('Serial No','GRE Score', 'TOEFL Score', 'University Rating', 'SOP',\n",
        "                                          'LOR','CGPA','Research', 'Chance of Admit'), dtype=None)"
      ],
      "metadata": {
        "id": "_t5QuujJZps6"
      },
      "execution_count": null,
      "outputs": []
    },
    {
      "cell_type": "code",
      "source": [
        "admission_data.dtype"
      ],
      "metadata": {
        "colab": {
          "base_uri": "https://localhost:8080/"
        },
        "id": "b8LCX5_oZuoY",
        "outputId": "d598232c-c753-445e-ce66-234c6587c289"
      },
      "execution_count": null,
      "outputs": [
        {
          "output_type": "execute_result",
          "data": {
            "text/plain": [
              "dtype([('Serial_No', '<i8'), ('GRE_Score', '<i8'), ('TOEFL_Score', '<i8'), ('University_Rating', '<i8'), ('SOP', '<f8'), ('LOR', '<f8'), ('CGPA', '<f8'), ('Research', '<i8'), ('Chance_of_Admit', '<f8')])"
            ]
          },
          "metadata": {},
          "execution_count": 85
        }
      ]
    },
    {
      "cell_type": "code",
      "source": [
        "admission_data.shape"
      ],
      "metadata": {
        "colab": {
          "base_uri": "https://localhost:8080/"
        },
        "id": "82uhLydIZwrf",
        "outputId": "1b5645ab-01ab-4d9a-dd42-e35dadd828df"
      },
      "execution_count": null,
      "outputs": [
        {
          "output_type": "execute_result",
          "data": {
            "text/plain": [
              "(400,)"
            ]
          },
          "metadata": {},
          "execution_count": 86
        }
      ]
    },
    {
      "cell_type": "code",
      "source": [
        "sliced = admission_data['CGPA']\n",
        "\n",
        "sliced.shape"
      ],
      "metadata": {
        "colab": {
          "base_uri": "https://localhost:8080/"
        },
        "id": "t2VpSUs3Z-BO",
        "outputId": "fb174c9a-2ead-4295-eb57-0a76557ecd29"
      },
      "execution_count": null,
      "outputs": [
        {
          "output_type": "execute_result",
          "data": {
            "text/plain": [
              "(400,)"
            ]
          },
          "metadata": {},
          "execution_count": 89
        }
      ]
    },
    {
      "cell_type": "code",
      "source": [
        "sliced[:3]\n",
        "\n",
        "sliced"
      ],
      "metadata": {
        "colab": {
          "base_uri": "https://localhost:8080/"
        },
        "id": "K8hq2fVfaPa-",
        "outputId": "08d35b4c-2a26-4a9d-b331-1f7cfdfbea38"
      },
      "execution_count": null,
      "outputs": [
        {
          "output_type": "execute_result",
          "data": {
            "text/plain": [
              "array([9.65, 8.87, 8.  , 8.67, 8.21, 9.34, 8.2 , 7.9 , 8.  , 8.6 , 8.4 ,\n",
              "       9.  , 9.1 , 8.  , 8.2 , 8.3 , 8.7 , 8.  , 8.8 , 8.5 , 7.9 , 8.4 ,\n",
              "       9.5 , 9.7 , 9.8 , 9.6 , 8.8 , 7.5 , 7.2 , 7.3 , 8.1 , 8.3 , 9.4 ,\n",
              "       9.6 , 9.8 , 9.2 , 8.4 , 7.8 , 7.5 , 7.7 , 8.  , 8.2 , 8.5 , 9.1 ,\n",
              "       9.4 , 9.1 , 9.3 , 9.7 , 8.85, 8.4 , 8.3 , 7.9 , 8.  , 8.1 , 8.  ,\n",
              "       7.7 , 7.4 , 7.6 , 6.8 , 8.3 , 8.1 , 8.2 , 8.2 , 8.5 , 8.7 , 8.92,\n",
              "       9.02, 8.64, 9.22, 9.16, 9.64, 9.76, 9.45, 9.04, 8.9 , 8.56, 8.72,\n",
              "       8.22, 7.54, 7.36, 8.02, 9.5 , 9.22, 9.36, 9.45, 8.66, 8.42, 8.28,\n",
              "       8.14, 8.76, 7.92, 7.66, 8.03, 7.88, 7.66, 7.84, 8.  , 8.96, 9.24,\n",
              "       8.88, 8.46, 8.12, 8.25, 8.47, 9.05, 8.78, 9.18, 9.46, 9.38, 8.64,\n",
              "       8.48, 8.68, 8.34, 8.56, 8.45, 9.04, 8.62, 7.46, 7.28, 8.84, 9.56,\n",
              "       9.48, 8.36, 8.22, 8.47, 8.66, 9.32, 8.71, 9.1 , 9.35, 9.76, 8.65,\n",
              "       8.56, 8.78, 9.28, 8.77, 8.45, 8.16, 9.08, 9.12, 9.15, 9.36, 9.44,\n",
              "       9.92, 8.96, 8.64, 8.48, 9.11, 9.8 , 8.26, 9.43, 9.28, 9.06, 8.75,\n",
              "       8.89, 8.69, 8.34, 8.26, 8.14, 7.9 , 7.86, 7.46, 8.5 , 8.56, 9.01,\n",
              "       8.97, 8.33, 8.27, 7.8 , 7.98, 8.04, 9.07, 9.13, 9.23, 8.97, 8.87,\n",
              "       9.16, 9.04, 8.12, 8.27, 8.16, 8.42, 7.88, 8.8 , 8.32, 9.11, 8.68,\n",
              "       9.44, 9.36, 9.08, 9.16, 8.98, 8.94, 9.53, 8.76, 8.52, 8.26, 8.33,\n",
              "       8.43, 8.69, 8.54, 8.46, 9.91, 9.87, 8.54, 7.65, 7.89, 8.02, 8.16,\n",
              "       8.12, 9.06, 9.14, 9.66, 9.78, 9.42, 9.36, 9.26, 9.13, 8.97, 8.42,\n",
              "       8.75, 8.56, 8.79, 8.45, 8.23, 8.03, 8.45, 8.53, 8.67, 9.01, 8.65,\n",
              "       8.33, 8.27, 8.07, 9.31, 9.23, 9.17, 9.19, 8.37, 7.89, 7.68, 8.15,\n",
              "       8.76, 9.04, 8.56, 9.02, 8.73, 8.48, 8.87, 8.83, 8.57, 9.  , 8.54,\n",
              "       9.68, 9.12, 8.37, 8.56, 8.64, 8.76, 9.34, 9.13, 8.09, 8.36, 8.79,\n",
              "       8.76, 8.68, 8.45, 8.17, 9.14, 8.34, 8.22, 7.86, 7.64, 8.01, 7.95,\n",
              "       8.96, 9.45, 8.62, 8.49, 8.73, 8.64, 9.11, 8.79, 8.9 , 9.66, 9.26,\n",
              "       9.19, 9.08, 9.02, 9.  , 7.65, 7.87, 7.97, 8.18, 8.32, 8.57, 8.67,\n",
              "       9.11, 9.24, 8.65, 8.  , 8.76, 8.45, 8.55, 8.43, 8.8 , 9.1 , 9.  ,\n",
              "       8.53, 8.6 , 8.74, 9.18, 9.  , 8.04, 8.13, 8.07, 7.86, 8.01, 8.8 ,\n",
              "       8.69, 8.5 , 8.44, 8.27, 8.18, 8.33, 9.14, 8.02, 7.86, 8.77, 7.89,\n",
              "       8.66, 8.12, 8.21, 8.54, 8.65, 9.11, 8.79, 9.47, 8.74, 8.66, 8.46,\n",
              "       8.76, 8.24, 8.13, 7.34, 7.43, 7.64, 7.34, 7.25, 8.04, 8.27, 8.67,\n",
              "       8.06, 8.17, 7.67, 8.12, 8.77, 7.89, 7.64, 8.44, 8.64, 9.54, 9.23,\n",
              "       8.36, 8.9 , 9.17, 8.34, 7.46, 7.88, 8.03, 8.24, 9.22, 9.62, 8.54,\n",
              "       7.65, 7.66, 7.43, 7.56, 7.65, 8.43, 8.84, 8.67, 9.15, 8.26, 9.74,\n",
              "       9.82, 7.96, 8.1 , 7.8 , 8.44, 8.24, 8.65, 9.12, 8.76, 9.23, 9.04,\n",
              "       9.11, 9.45, 8.78, 9.66])"
            ]
          },
          "metadata": {},
          "execution_count": 92
        }
      ]
    },
    {
      "cell_type": "code",
      "source": [
        "mask = admission_data['Research'] == True\n",
        "\n",
        "mask[:5]"
      ],
      "metadata": {
        "colab": {
          "base_uri": "https://localhost:8080/"
        },
        "id": "henFHe9VaRFP",
        "outputId": "89981bc0-839c-4015-a4c0-ba429ff9fcae"
      },
      "execution_count": null,
      "outputs": [
        {
          "output_type": "execute_result",
          "data": {
            "text/plain": [
              "array([ True,  True,  True,  True, False])"
            ]
          },
          "metadata": {},
          "execution_count": 102
        }
      ]
    },
    {
      "cell_type": "code",
      "source": [
        "admission_data[:5]#-2 row is research boolean"
      ],
      "metadata": {
        "colab": {
          "base_uri": "https://localhost:8080/"
        },
        "id": "pp8l64z8bB3T",
        "outputId": "777997ea-2b48-4465-9e55-b3fd2d7c193c"
      },
      "execution_count": null,
      "outputs": [
        {
          "output_type": "execute_result",
          "data": {
            "text/plain": [
              "array([(1, 337, 118, 4, 4.5, 4.5, 9.65, 1, 0.92),\n",
              "       (2, 324, 107, 4, 4. , 4.5, 8.87, 1, 0.76),\n",
              "       (3, 316, 104, 3, 3. , 3.5, 8.  , 1, 0.72),\n",
              "       (4, 322, 110, 3, 3.5, 2.5, 8.67, 1, 0.8 ),\n",
              "       (5, 314, 103, 2, 2. , 3. , 8.21, 0, 0.65)],\n",
              "      dtype=[('Serial_No', '<i8'), ('GRE_Score', '<i8'), ('TOEFL_Score', '<i8'), ('University_Rating', '<i8'), ('SOP', '<f8'), ('LOR', '<f8'), ('CGPA', '<f8'), ('Research', '<i8'), ('Chance_of_Admit', '<f8')])"
            ]
          },
          "metadata": {},
          "execution_count": 101
        }
      ]
    },
    {
      "cell_type": "code",
      "source": [
        "masked_data = admission_data[mask]\n",
        "\n",
        "masked_data[:5]"
      ],
      "metadata": {
        "colab": {
          "base_uri": "https://localhost:8080/"
        },
        "id": "JZc2ezAPbksO",
        "outputId": "2eb0e502-030d-4438-e1a8-b187fd26d1fe"
      },
      "execution_count": null,
      "outputs": [
        {
          "output_type": "execute_result",
          "data": {
            "text/plain": [
              "array([(1, 337, 118, 4, 4.5, 4.5, 9.65, 1, 0.92),\n",
              "       (2, 324, 107, 4, 4. , 4.5, 8.87, 1, 0.76),\n",
              "       (3, 316, 104, 3, 3. , 3.5, 8.  , 1, 0.72),\n",
              "       (4, 322, 110, 3, 3.5, 2.5, 8.67, 1, 0.8 ),\n",
              "       (6, 330, 115, 5, 4.5, 3. , 9.34, 1, 0.9 )],\n",
              "      dtype=[('Serial_No', '<i8'), ('GRE_Score', '<i8'), ('TOEFL_Score', '<i8'), ('University_Rating', '<i8'), ('SOP', '<f8'), ('LOR', '<f8'), ('CGPA', '<f8'), ('Research', '<i8'), ('Chance_of_Admit', '<f8')])"
            ]
          },
          "metadata": {},
          "execution_count": 106
        }
      ]
    },
    {
      "cell_type": "code",
      "source": [],
      "metadata": {
        "id": "bXh-8PFOdt3B"
      },
      "execution_count": null,
      "outputs": []
    },
    {
      "cell_type": "markdown",
      "source": [
        "#regular expressions"
      ],
      "metadata": {
        "id": "1XNVsp9jQk7T"
      }
    },
    {
      "cell_type": "code",
      "source": [
        "#@title importimg library\n",
        "\n",
        "import re"
      ],
      "metadata": {
        "id": "rHFC1dzcQucN"
      },
      "execution_count": 5,
      "outputs": []
    },
    {
      "cell_type": "code",
      "source": [
        "sample_string = \"\"\"\n",
        "abcdefghigklmnop\n",
        "ABCDEFGHIJKLMNOP\n",
        "123456789\n",
        "\"\"\""
      ],
      "metadata": {
        "id": "YIP9E4C0Q2q1"
      },
      "execution_count": 6,
      "outputs": []
    },
    {
      "cell_type": "code",
      "source": [
        "print(sample_string[0])"
      ],
      "metadata": {
        "colab": {
          "base_uri": "https://localhost:8080/"
        },
        "id": "TtqG7yDyRGdI",
        "outputId": "95aea80f-358f-49b5-f560-9a4e0ae43256"
      },
      "execution_count": 7,
      "outputs": [
        {
          "output_type": "stream",
          "name": "stdout",
          "text": [
            "\n",
            "\n"
          ]
        }
      ]
    },
    {
      "cell_type": "markdown",
      "source": [
        "##raw string\n",
        "when you put r at first of the string we call that the raw string and it causes complier to dont handle things like \\n \\t and ect in an special way."
      ],
      "metadata": {
        "id": "EwR7jN8vROGs"
      }
    },
    {
      "cell_type": "code",
      "source": [
        "s = '\\thi'\n",
        "print(s)"
      ],
      "metadata": {
        "colab": {
          "base_uri": "https://localhost:8080/"
        },
        "id": "DeUWqO35RKBT",
        "outputId": "7724e5d2-020a-4fde-f117-786827aca4fc"
      },
      "execution_count": 8,
      "outputs": [
        {
          "output_type": "stream",
          "name": "stdout",
          "text": [
            "\thi\n"
          ]
        }
      ]
    },
    {
      "cell_type": "code",
      "source": [
        "s = r'\\thi'\n",
        "print(s)"
      ],
      "metadata": {
        "colab": {
          "base_uri": "https://localhost:8080/"
        },
        "id": "6pXUDCucRo86",
        "outputId": "36bb2303-26b3-4cbc-b730-5bc12d6e4020"
      },
      "execution_count": 9,
      "outputs": [
        {
          "output_type": "stream",
          "name": "stdout",
          "text": [
            "\\thi\n"
          ]
        }
      ]
    },
    {
      "cell_type": "markdown",
      "source": [
        "##searching for a literal string(case sensitive)"
      ],
      "metadata": {
        "id": "sAo75yO0s4QE"
      }
    },
    {
      "cell_type": "code",
      "source": [
        "\n",
        "pattern = re.compile(r'abc')\n",
        "\n",
        "matches = pattern.finditer(sample_string)"
      ],
      "metadata": {
        "id": "vWbYPcMPR0Mg"
      },
      "execution_count": 10,
      "outputs": []
    },
    {
      "cell_type": "code",
      "source": [
        "for m in matches:\n",
        "  print(m)"
      ],
      "metadata": {
        "colab": {
          "base_uri": "https://localhost:8080/"
        },
        "id": "TmBeL6xksMCq",
        "outputId": "a238ae80-f6e8-4eb4-d480-f372d1c4e7c6"
      },
      "execution_count": 11,
      "outputs": [
        {
          "output_type": "stream",
          "name": "stdout",
          "text": [
            "<re.Match object; span=(1, 4), match='abc'>\n"
          ]
        }
      ]
    },
    {
      "cell_type": "markdown",
      "source": [
        "##special characters"
      ],
      "metadata": {
        "id": "ETYA1xw9tIMm"
      }
    },
    {
      "cell_type": "code",
      "source": [
        "pattern = re.compile(r'.')\n",
        "\n",
        "matches = pattern.finditer(sample_string)\n",
        "\n",
        "for m in matches:\n",
        "  print(m)"
      ],
      "metadata": {
        "colab": {
          "base_uri": "https://localhost:8080/"
        },
        "id": "9duqHK3msTUp",
        "outputId": "75e1e075-9e13-4731-a0df-7d38eed63d1e"
      },
      "execution_count": 12,
      "outputs": [
        {
          "output_type": "stream",
          "name": "stdout",
          "text": [
            "<re.Match object; span=(1, 2), match='a'>\n",
            "<re.Match object; span=(2, 3), match='b'>\n",
            "<re.Match object; span=(3, 4), match='c'>\n",
            "<re.Match object; span=(4, 5), match='d'>\n",
            "<re.Match object; span=(5, 6), match='e'>\n",
            "<re.Match object; span=(6, 7), match='f'>\n",
            "<re.Match object; span=(7, 8), match='g'>\n",
            "<re.Match object; span=(8, 9), match='h'>\n",
            "<re.Match object; span=(9, 10), match='i'>\n",
            "<re.Match object; span=(10, 11), match='g'>\n",
            "<re.Match object; span=(11, 12), match='k'>\n",
            "<re.Match object; span=(12, 13), match='l'>\n",
            "<re.Match object; span=(13, 14), match='m'>\n",
            "<re.Match object; span=(14, 15), match='n'>\n",
            "<re.Match object; span=(15, 16), match='o'>\n",
            "<re.Match object; span=(16, 17), match='p'>\n",
            "<re.Match object; span=(18, 19), match='A'>\n",
            "<re.Match object; span=(19, 20), match='B'>\n",
            "<re.Match object; span=(20, 21), match='C'>\n",
            "<re.Match object; span=(21, 22), match='D'>\n",
            "<re.Match object; span=(22, 23), match='E'>\n",
            "<re.Match object; span=(23, 24), match='F'>\n",
            "<re.Match object; span=(24, 25), match='G'>\n",
            "<re.Match object; span=(25, 26), match='H'>\n",
            "<re.Match object; span=(26, 27), match='I'>\n",
            "<re.Match object; span=(27, 28), match='J'>\n",
            "<re.Match object; span=(28, 29), match='K'>\n",
            "<re.Match object; span=(29, 30), match='L'>\n",
            "<re.Match object; span=(30, 31), match='M'>\n",
            "<re.Match object; span=(31, 32), match='N'>\n",
            "<re.Match object; span=(32, 33), match='O'>\n",
            "<re.Match object; span=(33, 34), match='P'>\n",
            "<re.Match object; span=(35, 36), match='1'>\n",
            "<re.Match object; span=(36, 37), match='2'>\n",
            "<re.Match object; span=(37, 38), match='3'>\n",
            "<re.Match object; span=(38, 39), match='4'>\n",
            "<re.Match object; span=(39, 40), match='5'>\n",
            "<re.Match object; span=(40, 41), match='6'>\n",
            "<re.Match object; span=(41, 42), match='7'>\n",
            "<re.Match object; span=(42, 43), match='8'>\n",
            "<re.Match object; span=(43, 44), match='9'>\n"
          ]
        }
      ]
    },
    {
      "cell_type": "markdown",
      "source": [
        "because dot is an special character we need to scape it in order to just search for dots."
      ],
      "metadata": {
        "id": "9JK7fpjCt8KG"
      }
    },
    {
      "cell_type": "code",
      "source": [
        "s_2 = \"abcdsdldmac.,claclaaka[pkp..]\"\n",
        "\n",
        "pattern = re.compile(r'\\.')\n",
        "\n",
        "matches = pattern.finditer(s_2)\n",
        "\n",
        "for m in matches:\n",
        "  print(m)"
      ],
      "metadata": {
        "colab": {
          "base_uri": "https://localhost:8080/"
        },
        "id": "0KydS1WJtdk8",
        "outputId": "95bd5db0-557b-4ef3-9e87-4b0e4f1089dc"
      },
      "execution_count": 13,
      "outputs": [
        {
          "output_type": "stream",
          "name": "stdout",
          "text": [
            "<re.Match object; span=(11, 12), match='.'>\n",
            "<re.Match object; span=(26, 27), match='.'>\n",
            "<re.Match object; span=(27, 28), match='.'>\n"
          ]
        }
      ]
    },
    {
      "cell_type": "markdown",
      "source": [
        "##meta charaters"
      ],
      "metadata": {
        "id": "mIyS0mT4xetT"
      }
    },
    {
      "cell_type": "code",
      "source": [
        "sample_string = '''\n",
        "ab\n",
        "AB\n",
        "12\n",
        ".\n",
        "/\n",
        "\\\n",
        "\n",
        ":\n",
        "'''"
      ],
      "metadata": {
        "id": "TicIFCN0xo1P"
      },
      "execution_count": 14,
      "outputs": []
    },
    {
      "cell_type": "code",
      "source": [
        "def print_matches(s):\n",
        "  pattern = re.compile(r'{}'.format(s))\n",
        "\n",
        "  matches = pattern.finditer(sample_string)\n",
        "\n",
        "  for m in matches:\n",
        "   print(m)\n"
      ],
      "metadata": {
        "id": "YEEQ3EdOyuTc"
      },
      "execution_count": 15,
      "outputs": []
    },
    {
      "cell_type": "code",
      "source": [
        "#@title . -> all characters except new lines\n",
        "print_matches('.')"
      ],
      "metadata": {
        "colab": {
          "base_uri": "https://localhost:8080/"
        },
        "id": "DfE7f5z9uV4y",
        "outputId": "a182a0fd-d9a8-4ecb-8268-54a9cd26ed46"
      },
      "execution_count": 16,
      "outputs": [
        {
          "output_type": "stream",
          "name": "stdout",
          "text": [
            "<re.Match object; span=(1, 2), match='a'>\n",
            "<re.Match object; span=(2, 3), match='b'>\n",
            "<re.Match object; span=(4, 5), match='A'>\n",
            "<re.Match object; span=(5, 6), match='B'>\n",
            "<re.Match object; span=(7, 8), match='1'>\n",
            "<re.Match object; span=(8, 9), match='2'>\n",
            "<re.Match object; span=(10, 11), match='.'>\n",
            "<re.Match object; span=(12, 13), match='/'>\n",
            "<re.Match object; span=(15, 16), match=':'>\n"
          ]
        }
      ]
    },
    {
      "cell_type": "code",
      "source": [
        "#@title \\d -> digits\n",
        "\n",
        "print_matches('\\d')"
      ],
      "metadata": {
        "colab": {
          "base_uri": "https://localhost:8080/"
        },
        "id": "reCjQt2vyZJx",
        "outputId": "edc7a5ee-27d2-481d-91e3-85a73d491ff9"
      },
      "execution_count": 17,
      "outputs": [
        {
          "output_type": "stream",
          "name": "stdout",
          "text": [
            "<re.Match object; span=(7, 8), match='1'>\n",
            "<re.Match object; span=(8, 9), match='2'>\n"
          ]
        }
      ]
    },
    {
      "cell_type": "code",
      "source": [
        "#@title \\D -> all none digits characters\n",
        "print_matches('\\D')"
      ],
      "metadata": {
        "colab": {
          "base_uri": "https://localhost:8080/"
        },
        "id": "1Gz3WM6azGHt",
        "outputId": "2570b71f-7248-4630-da32-ff5a24921359"
      },
      "execution_count": 18,
      "outputs": [
        {
          "output_type": "stream",
          "name": "stdout",
          "text": [
            "<re.Match object; span=(0, 1), match='\\n'>\n",
            "<re.Match object; span=(1, 2), match='a'>\n",
            "<re.Match object; span=(2, 3), match='b'>\n",
            "<re.Match object; span=(3, 4), match='\\n'>\n",
            "<re.Match object; span=(4, 5), match='A'>\n",
            "<re.Match object; span=(5, 6), match='B'>\n",
            "<re.Match object; span=(6, 7), match='\\n'>\n",
            "<re.Match object; span=(9, 10), match='\\n'>\n",
            "<re.Match object; span=(10, 11), match='.'>\n",
            "<re.Match object; span=(11, 12), match='\\n'>\n",
            "<re.Match object; span=(12, 13), match='/'>\n",
            "<re.Match object; span=(13, 14), match='\\n'>\n",
            "<re.Match object; span=(14, 15), match='\\n'>\n",
            "<re.Match object; span=(15, 16), match=':'>\n",
            "<re.Match object; span=(16, 17), match='\\n'>\n"
          ]
        }
      ]
    },
    {
      "cell_type": "code",
      "source": [
        "#@title \\w -> word characters (a-z, A-Z, 0-9, _)\n",
        "\n",
        "print_matches('\\w')"
      ],
      "metadata": {
        "colab": {
          "base_uri": "https://localhost:8080/"
        },
        "id": "XnHKm9fYzUPf",
        "outputId": "53dfcb89-31ff-4577-9095-da3e0584673e"
      },
      "execution_count": 19,
      "outputs": [
        {
          "output_type": "stream",
          "name": "stdout",
          "text": [
            "<re.Match object; span=(1, 2), match='a'>\n",
            "<re.Match object; span=(2, 3), match='b'>\n",
            "<re.Match object; span=(4, 5), match='A'>\n",
            "<re.Match object; span=(5, 6), match='B'>\n",
            "<re.Match object; span=(7, 8), match='1'>\n",
            "<re.Match object; span=(8, 9), match='2'>\n"
          ]
        }
      ]
    },
    {
      "cell_type": "code",
      "source": [
        "#@title \\W -> none word characters\n",
        "\n",
        "print_matches('\\W')"
      ],
      "metadata": {
        "colab": {
          "base_uri": "https://localhost:8080/"
        },
        "id": "uik4bkJnzoEN",
        "outputId": "06fad723-c529-4bd4-86dc-2574106f1aaf"
      },
      "execution_count": 20,
      "outputs": [
        {
          "output_type": "stream",
          "name": "stdout",
          "text": [
            "<re.Match object; span=(0, 1), match='\\n'>\n",
            "<re.Match object; span=(3, 4), match='\\n'>\n",
            "<re.Match object; span=(6, 7), match='\\n'>\n",
            "<re.Match object; span=(9, 10), match='\\n'>\n",
            "<re.Match object; span=(10, 11), match='.'>\n",
            "<re.Match object; span=(11, 12), match='\\n'>\n",
            "<re.Match object; span=(12, 13), match='/'>\n",
            "<re.Match object; span=(13, 14), match='\\n'>\n",
            "<re.Match object; span=(14, 15), match='\\n'>\n",
            "<re.Match object; span=(15, 16), match=':'>\n",
            "<re.Match object; span=(16, 17), match='\\n'>\n"
          ]
        }
      ]
    },
    {
      "cell_type": "code",
      "source": [
        "#@title \\s -> white space(space, tab, new line)\n",
        "\n",
        "print_matches('\\s')"
      ],
      "metadata": {
        "colab": {
          "base_uri": "https://localhost:8080/"
        },
        "id": "-Y3jyWXyzyP3",
        "outputId": "c1830c66-9aeb-4187-e710-429778a6eceb"
      },
      "execution_count": 21,
      "outputs": [
        {
          "output_type": "stream",
          "name": "stdout",
          "text": [
            "<re.Match object; span=(0, 1), match='\\n'>\n",
            "<re.Match object; span=(3, 4), match='\\n'>\n",
            "<re.Match object; span=(6, 7), match='\\n'>\n",
            "<re.Match object; span=(9, 10), match='\\n'>\n",
            "<re.Match object; span=(11, 12), match='\\n'>\n",
            "<re.Match object; span=(13, 14), match='\\n'>\n",
            "<re.Match object; span=(14, 15), match='\\n'>\n",
            "<re.Match object; span=(16, 17), match='\\n'>\n"
          ]
        }
      ]
    },
    {
      "cell_type": "code",
      "source": [
        "#@title \\S -> note white space character\n",
        "\n",
        "print_matches('\\S')"
      ],
      "metadata": {
        "colab": {
          "base_uri": "https://localhost:8080/"
        },
        "id": "4DqROytn0Fvo",
        "outputId": "1d888bd7-810e-48c9-c1ad-0a311d9d6e4a"
      },
      "execution_count": 22,
      "outputs": [
        {
          "output_type": "stream",
          "name": "stdout",
          "text": [
            "<re.Match object; span=(1, 2), match='a'>\n",
            "<re.Match object; span=(2, 3), match='b'>\n",
            "<re.Match object; span=(4, 5), match='A'>\n",
            "<re.Match object; span=(5, 6), match='B'>\n",
            "<re.Match object; span=(7, 8), match='1'>\n",
            "<re.Match object; span=(8, 9), match='2'>\n",
            "<re.Match object; span=(10, 11), match='.'>\n",
            "<re.Match object; span=(12, 13), match='/'>\n",
            "<re.Match object; span=(15, 16), match=':'>\n"
          ]
        }
      ]
    },
    {
      "cell_type": "code",
      "source": [
        "#@title \\b -> word boundry\n",
        "\n",
        "##it findes specified pattern that starts at start of a words\n",
        "\n",
        "print_matches(r'\\ba')\n",
        "print('\\n')\n",
        "print_matches(r'\\bb')"
      ],
      "metadata": {
        "colab": {
          "base_uri": "https://localhost:8080/"
        },
        "id": "zfJvflb20T2K",
        "outputId": "28ef8ee5-6154-4fe5-90c7-79b4006c8033"
      },
      "execution_count": 23,
      "outputs": [
        {
          "output_type": "stream",
          "name": "stdout",
          "text": [
            "<re.Match object; span=(1, 2), match='a'>\n",
            "\n",
            "\n"
          ]
        }
      ]
    },
    {
      "cell_type": "code",
      "source": [
        "#@title \\B -> not a word boundry\n",
        "\n",
        "print(sample_string + '\\n')\n",
        "\n",
        "print_matches(r'\\Bb')\n",
        "print_matches(r'\\Ba')"
      ],
      "metadata": {
        "colab": {
          "base_uri": "https://localhost:8080/"
        },
        "id": "RgJIG43a06Mj",
        "outputId": "ff5f65f2-78d2-42b1-98ac-3df6a308a759"
      },
      "execution_count": 24,
      "outputs": [
        {
          "output_type": "stream",
          "name": "stdout",
          "text": [
            "\n",
            "ab\n",
            "AB\n",
            "12\n",
            ".\n",
            "/\n",
            "\n",
            ":\n",
            "\n",
            "\n",
            "<re.Match object; span=(2, 3), match='b'>\n"
          ]
        }
      ]
    },
    {
      "cell_type": "code",
      "source": [
        "#@title ^ -> beginnig of a string\n",
        "\n",
        "print_matches(r'^a')\n",
        "\n",
        "print_matches(r'^\\n')"
      ],
      "metadata": {
        "colab": {
          "base_uri": "https://localhost:8080/"
        },
        "id": "FEEuXo0t1-ie",
        "outputId": "b17c1622-90d8-424d-db25-45a2ec64405e"
      },
      "execution_count": 25,
      "outputs": [
        {
          "output_type": "stream",
          "name": "stdout",
          "text": [
            "<re.Match object; span=(0, 1), match='\\n'>\n"
          ]
        }
      ]
    },
    {
      "cell_type": "code",
      "source": [
        "#@title $ -> end of string\n",
        "\n",
        "print_matches(r'$\\n')"
      ],
      "metadata": {
        "colab": {
          "base_uri": "https://localhost:8080/"
        },
        "id": "OM4ol1Bb2bxZ",
        "outputId": "fafec496-b113-4485-8bca-99d618b725a7"
      },
      "execution_count": 26,
      "outputs": [
        {
          "output_type": "stream",
          "name": "stdout",
          "text": [
            "<re.Match object; span=(16, 17), match='\\n'>\n"
          ]
        }
      ]
    },
    {
      "cell_type": "code",
      "source": [
        "example_string = '''Lorem ipsum dolor sit amet, consectetur adipiscing elit. Fusce ac leo auctor\n",
        ", 123-456-789, tempor elit. Quisque eu 987.654.321. Morbi lacinia 555-444-333,\n",
        "ullamcorper metus. Ut 111-222-333. Nunc tempus 777-888-999. Vestibulum 444-555-666.\n",
        " Sed lobortis 222-333-444, libero at. Phasellus 666-777-888, risus eget. Vivamus 999-888-777.'''\n"
      ],
      "metadata": {
        "id": "Cx-a57bG2r-e"
      },
      "execution_count": 29,
      "outputs": []
    },
    {
      "cell_type": "code",
      "source": [
        "pattern = re.compile(r'\\d\\d\\d[.-]\\d\\d\\d[.-]\\d\\d\\d')\n",
        "\n",
        "matches = pattern.finditer(example_string)\n",
        "\n",
        "for m in matches:\n",
        "  print(m)"
      ],
      "metadata": {
        "colab": {
          "base_uri": "https://localhost:8080/"
        },
        "id": "j8iK9p1ESapu",
        "outputId": "ad6cbea8-89d6-47a9-e6ae-4ffb22e75400"
      },
      "execution_count": 30,
      "outputs": [
        {
          "output_type": "stream",
          "name": "stdout",
          "text": [
            "<re.Match object; span=(79, 90), match='123-456-789'>\n",
            "<re.Match object; span=(116, 127), match='987.654.321'>\n",
            "<re.Match object; span=(143, 154), match='555-444-333'>\n",
            "<re.Match object; span=(179, 190), match='111-222-333'>\n",
            "<re.Match object; span=(204, 215), match='777-888-999'>\n",
            "<re.Match object; span=(228, 239), match='444-555-666'>\n",
            "<re.Match object; span=(255, 266), match='222-333-444'>\n",
            "<re.Match object; span=(289, 300), match='666-777-888'>\n",
            "<re.Match object; span=(322, 333), match='999-888-777'>\n"
          ]
        }
      ]
    },
    {
      "cell_type": "code",
      "source": [
        "#@title how to specify a range of characters\n",
        "\n",
        "s = '''1234566788809472352\n",
        "abcd'''\n",
        "\n",
        "pattern = re.compile(r'[1-3]')\n",
        "\n",
        "matches = pattern.finditer(s)\n",
        "\n",
        "for m in matches:\n",
        "  print(m)\n",
        "\n",
        "pattern = re.compile(r'[^1-3]')\n",
        "\n",
        "matches = pattern.finditer(s)\n",
        "\n",
        "print(\"\\n\\n\")\n",
        "\n",
        "for m in matches:\n",
        "  print(m)"
      ],
      "metadata": {
        "colab": {
          "base_uri": "https://localhost:8080/"
        },
        "id": "5mUg28KDTC0T",
        "outputId": "05abd5e4-0558-4bdb-b7df-a4c8a462c13a"
      },
      "execution_count": 35,
      "outputs": [
        {
          "output_type": "stream",
          "name": "stdout",
          "text": [
            "<re.Match object; span=(0, 1), match='1'>\n",
            "<re.Match object; span=(1, 2), match='2'>\n",
            "<re.Match object; span=(2, 3), match='3'>\n",
            "<re.Match object; span=(15, 16), match='2'>\n",
            "<re.Match object; span=(16, 17), match='3'>\n",
            "<re.Match object; span=(18, 19), match='2'>\n",
            "\n",
            "\n",
            "\n",
            "<re.Match object; span=(3, 4), match='4'>\n",
            "<re.Match object; span=(4, 5), match='5'>\n",
            "<re.Match object; span=(5, 6), match='6'>\n",
            "<re.Match object; span=(6, 7), match='6'>\n",
            "<re.Match object; span=(7, 8), match='7'>\n",
            "<re.Match object; span=(8, 9), match='8'>\n",
            "<re.Match object; span=(9, 10), match='8'>\n",
            "<re.Match object; span=(10, 11), match='8'>\n",
            "<re.Match object; span=(11, 12), match='0'>\n",
            "<re.Match object; span=(12, 13), match='9'>\n",
            "<re.Match object; span=(13, 14), match='4'>\n",
            "<re.Match object; span=(14, 15), match='7'>\n",
            "<re.Match object; span=(17, 18), match='5'>\n",
            "<re.Match object; span=(19, 20), match='\\n'>\n",
            "<re.Match object; span=(20, 21), match='a'>\n",
            "<re.Match object; span=(21, 22), match='b'>\n",
            "<re.Match object; span=(22, 23), match='c'>\n",
            "<re.Match object; span=(23, 24), match='d'>\n"
          ]
        }
      ]
    },
    {
      "cell_type": "markdown",
      "source": [
        "##quantifiers"
      ],
      "metadata": {
        "id": "K4IItGG2W8nG"
      }
    },
    {
      "cell_type": "code",
      "source": [
        "samp = '''12345abc2lds254'''"
      ],
      "metadata": {
        "id": "3KDmrPSLdXMI"
      },
      "execution_count": 44,
      "outputs": []
    },
    {
      "cell_type": "code",
      "source": [
        "def print_m(s):\n",
        "  pattern = re.compile(s)\n",
        "\n",
        "  matches = pattern.finditer(samp)\n",
        "\n",
        "  for m in matches:\n",
        "\n",
        "    print(m)"
      ],
      "metadata": {
        "id": "9kkvIhQ0dzVg"
      },
      "execution_count": 45,
      "outputs": []
    },
    {
      "cell_type": "code",
      "source": [
        "#@title * -> 0 or more\n",
        "\n",
        "print_m(r'\\d*')"
      ],
      "metadata": {
        "colab": {
          "base_uri": "https://localhost:8080/"
        },
        "id": "TjFuZbk4VYsr",
        "outputId": "ab5fbb8b-12a8-40ad-b9ad-92213a69b7e1"
      },
      "execution_count": 46,
      "outputs": [
        {
          "output_type": "stream",
          "name": "stdout",
          "text": [
            "<re.Match object; span=(0, 5), match='12345'>\n",
            "<re.Match object; span=(5, 5), match=''>\n",
            "<re.Match object; span=(6, 6), match=''>\n",
            "<re.Match object; span=(7, 7), match=''>\n",
            "<re.Match object; span=(8, 9), match='2'>\n",
            "<re.Match object; span=(9, 9), match=''>\n",
            "<re.Match object; span=(10, 10), match=''>\n",
            "<re.Match object; span=(11, 11), match=''>\n",
            "<re.Match object; span=(12, 15), match='254'>\n",
            "<re.Match object; span=(15, 15), match=''>\n"
          ]
        }
      ]
    },
    {
      "cell_type": "code",
      "source": [
        "#@title + -> 1 or more\n",
        "\n",
        "print_m(r'\\d+')"
      ],
      "metadata": {
        "colab": {
          "base_uri": "https://localhost:8080/"
        },
        "id": "I2gEZWJFdllw",
        "outputId": "1267cc33-d66b-4010-8e63-0bd22e92c38a"
      },
      "execution_count": 47,
      "outputs": [
        {
          "output_type": "stream",
          "name": "stdout",
          "text": [
            "<re.Match object; span=(0, 5), match='12345'>\n",
            "<re.Match object; span=(8, 9), match='2'>\n",
            "<re.Match object; span=(12, 15), match='254'>\n"
          ]
        }
      ]
    },
    {
      "cell_type": "code",
      "source": [
        "#@title ? -> 0 or one\n",
        "\n",
        "print_m(r'\\d?')"
      ],
      "metadata": {
        "colab": {
          "base_uri": "https://localhost:8080/"
        },
        "id": "sK9MrkKAeZFA",
        "outputId": "33398eff-da74-498a-8058-eacc6028c883"
      },
      "execution_count": 48,
      "outputs": [
        {
          "output_type": "stream",
          "name": "stdout",
          "text": [
            "<re.Match object; span=(0, 1), match='1'>\n",
            "<re.Match object; span=(1, 2), match='2'>\n",
            "<re.Match object; span=(2, 3), match='3'>\n",
            "<re.Match object; span=(3, 4), match='4'>\n",
            "<re.Match object; span=(4, 5), match='5'>\n",
            "<re.Match object; span=(5, 5), match=''>\n",
            "<re.Match object; span=(6, 6), match=''>\n",
            "<re.Match object; span=(7, 7), match=''>\n",
            "<re.Match object; span=(8, 9), match='2'>\n",
            "<re.Match object; span=(9, 9), match=''>\n",
            "<re.Match object; span=(10, 10), match=''>\n",
            "<re.Match object; span=(11, 11), match=''>\n",
            "<re.Match object; span=(12, 13), match='2'>\n",
            "<re.Match object; span=(13, 14), match='5'>\n",
            "<re.Match object; span=(14, 15), match='4'>\n",
            "<re.Match object; span=(15, 15), match=''>\n"
          ]
        }
      ]
    },
    {
      "cell_type": "code",
      "source": [
        "#@title {n} -> n of specified character\n",
        "\n",
        "print_m(r'\\d{2}')"
      ],
      "metadata": {
        "colab": {
          "base_uri": "https://localhost:8080/"
        },
        "id": "pEaMC7lWeih0",
        "outputId": "cdf7f6c5-013b-49bf-aaa8-fcc20ac91c4d"
      },
      "execution_count": 49,
      "outputs": [
        {
          "output_type": "stream",
          "name": "stdout",
          "text": [
            "<re.Match object; span=(0, 2), match='12'>\n",
            "<re.Match object; span=(2, 4), match='34'>\n",
            "<re.Match object; span=(12, 14), match='25'>\n"
          ]
        }
      ]
    },
    {
      "cell_type": "code",
      "source": [
        "#@title {n,m} -> a range from n to m\n",
        "\n",
        "print_m(r'\\d{2,4}')"
      ],
      "metadata": {
        "colab": {
          "base_uri": "https://localhost:8080/"
        },
        "id": "Gb7EufL8e1Ou",
        "outputId": "514e2238-ee98-4a62-e515-8569a58f52d3"
      },
      "execution_count": 51,
      "outputs": [
        {
          "output_type": "stream",
          "name": "stdout",
          "text": [
            "<re.Match object; span=(0, 4), match='1234'>\n",
            "<re.Match object; span=(12, 15), match='254'>\n"
          ]
        }
      ]
    },
    {
      "cell_type": "markdown",
      "source": [
        "##example\n",
        "match al the names"
      ],
      "metadata": {
        "id": "mla-Pmxwnk8T"
      }
    },
    {
      "cell_type": "code",
      "source": [
        "s = '''\n",
        "Mr. Golestani\n",
        "Ms Ahmadi\n",
        "Mrs. Maghsoodi\n",
        "Ms Jahanbani\n",
        "Mr T'''\n",
        "\n",
        "pattern = re.compile(r'(Mr|Ms|Mrs)\\.?\\s[A-Z]\\w*')\n",
        "\n",
        "mathces = pattern.finditer(s)\n",
        "\n",
        "for m in matches:\n",
        "  print(m)\n",
        "\n",
        "'''results -->>\n",
        "\n",
        "<re.Match object; span=(1, 14), match='Mr. Golestani'>\n",
        "<re.Match object; span=(15, 24), match='Ms Ahmadi'>\n",
        "<re.Match object; span=(25, 39), match='Mrs. Maghsoodi'>\n",
        "<re.Match object; span=(40, 52), match='Ms Jahanbani'>\n",
        "<re.Match object; span=(53, 57), match='Mr T'>\n",
        "\n",
        "'''"
      ],
      "metadata": {
        "colab": {
          "base_uri": "https://localhost:8080/",
          "height": 70
        },
        "id": "-0rKtj9GfJr5",
        "outputId": "3345012a-f5ba-45a7-91d6-ee996add0c07"
      },
      "execution_count": 84,
      "outputs": [
        {
          "output_type": "execute_result",
          "data": {
            "text/plain": [
              "\"results -->>\\n\\n<re.Match object; span=(1, 14), match='Mr. Golestani'>\\n<re.Match object; span=(15, 24), match='Ms Ahmadi'>\\n<re.Match object; span=(25, 39), match='Mrs. Maghsoodi'>\\n<re.Match object; span=(40, 52), match='Ms Jahanbani'>\\n<re.Match object; span=(53, 57), match='Mr T'>\\n\\n\""
            ],
            "application/vnd.google.colaboratory.intrinsic+json": {
              "type": "string"
            }
          },
          "metadata": {},
          "execution_count": 84
        }
      ]
    },
    {
      "cell_type": "markdown",
      "source": [
        "##example\n",
        "match emails"
      ],
      "metadata": {
        "id": "DonaAY2KrjX0"
      }
    },
    {
      "cell_type": "code",
      "source": [
        "s = '''\n",
        "randomuser1@gmail.com\n",
        "example1234@gmail.com\n",
        "user4321@gmail.com\n",
        "testemail567@gmail.com\n",
        "random12345@gmail.com\n",
        "email_test678@gmail.com\n",
        "userexample789@gmail.edu\n",
        "gmail-test123@my-work.com\n",
        "randomemail987@gmail.com\n",
        "exampleuser456@gmail.com\n",
        "'''"
      ],
      "metadata": {
        "id": "0OpMdtLErG7s"
      },
      "execution_count": 107,
      "outputs": []
    },
    {
      "cell_type": "code",
      "source": [
        "pattern = re.compile(r'[-_.0-9A-Za-z]+@[-A-Za-z]+\\.(com|edu)')"
      ],
      "metadata": {
        "id": "u-Pe2uaLsCoC"
      },
      "execution_count": 108,
      "outputs": []
    },
    {
      "cell_type": "code",
      "source": [
        "matches = pattern.finditer(s)"
      ],
      "metadata": {
        "id": "hqYgFu69sZlB"
      },
      "execution_count": 109,
      "outputs": []
    },
    {
      "cell_type": "code",
      "source": [
        "for m in matches:\n",
        "  print(m)"
      ],
      "metadata": {
        "colab": {
          "base_uri": "https://localhost:8080/"
        },
        "id": "x6RReNPKsd-y",
        "outputId": "08a626c6-5a5f-49f7-9aad-456acc46b64b"
      },
      "execution_count": 110,
      "outputs": [
        {
          "output_type": "stream",
          "name": "stdout",
          "text": [
            "<re.Match object; span=(1, 22), match='randomuser1@gmail.com'>\n",
            "<re.Match object; span=(23, 44), match='example1234@gmail.com'>\n",
            "<re.Match object; span=(45, 63), match='user4321@gmail.com'>\n",
            "<re.Match object; span=(64, 86), match='testemail567@gmail.com'>\n",
            "<re.Match object; span=(87, 108), match='random12345@gmail.com'>\n",
            "<re.Match object; span=(109, 132), match='email_test678@gmail.com'>\n",
            "<re.Match object; span=(133, 157), match='userexample789@gmail.edu'>\n",
            "<re.Match object; span=(158, 183), match='gmail-test123@my-work.com'>\n",
            "<re.Match object; span=(184, 208), match='randomemail987@gmail.com'>\n",
            "<re.Match object; span=(209, 233), match='exampleuser456@gmail.com'>\n"
          ]
        }
      ]
    },
    {
      "cell_type": "markdown",
      "source": [
        "##getting informaition from groups"
      ],
      "metadata": {
        "id": "zIBmWgt0x8L8"
      }
    },
    {
      "cell_type": "code",
      "source": [
        "urls = '''\n",
        "https://www.google.com\n",
        "http://coreyms.com\n",
        "https://youtube.com\n",
        "https://www.nasa.gov\n",
        "'''"
      ],
      "metadata": {
        "id": "c1bdzR4Fsf-R"
      },
      "execution_count": 127,
      "outputs": []
    },
    {
      "cell_type": "code",
      "source": [
        "pattern = re.compile(r'https?://(www.)?(\\w+)(\\.\\w+)')"
      ],
      "metadata": {
        "id": "DpsU9qL3zB2F"
      },
      "execution_count": 131,
      "outputs": []
    },
    {
      "cell_type": "code",
      "source": [
        "matches = pattern.finditer(urls)"
      ],
      "metadata": {
        "id": "WbSxgGOazYCf"
      },
      "execution_count": 132,
      "outputs": []
    },
    {
      "cell_type": "code",
      "source": [
        "for m in matches:\n",
        "  print(m.group(0), m.group(1), m.group(2), m.group(3))"
      ],
      "metadata": {
        "colab": {
          "base_uri": "https://localhost:8080/"
        },
        "id": "LUKC9Pijzdrg",
        "outputId": "65ed9dea-fa19-403b-cca4-d3e6c87d790f"
      },
      "execution_count": 133,
      "outputs": [
        {
          "output_type": "stream",
          "name": "stdout",
          "text": [
            "https://www.google.com www. google .com\n",
            "http://coreyms.com None coreyms .com\n",
            "https://youtube.com None youtube .com\n",
            "https://www.nasa.gov www. nasa .gov\n"
          ]
        }
      ]
    },
    {
      "cell_type": "code",
      "source": [
        "#@title back refrence\n",
        "\n",
        "subed_urls = pattern.sub(r'www.\\2\\3', urls)\n",
        "\n",
        "print(subed_urls)"
      ],
      "metadata": {
        "colab": {
          "base_uri": "https://localhost:8080/"
        },
        "id": "mRUgNpD8zsDU",
        "outputId": "321326c9-aaf5-43e6-b8a4-a8aed2d22d15"
      },
      "execution_count": 135,
      "outputs": [
        {
          "output_type": "stream",
          "name": "stdout",
          "text": [
            "\n",
            "www.google.com\n",
            "www.coreyms.com\n",
            "www.youtube.com\n",
            "www.nasa.gov\n",
            "\n"
          ]
        }
      ]
    },
    {
      "cell_type": "markdown",
      "source": [
        "##other methodes of re library"
      ],
      "metadata": {
        "id": "8nHRk83dCXpI"
      }
    },
    {
      "cell_type": "code",
      "source": [
        "s = 'abcabbca'"
      ],
      "metadata": {
        "id": "_oR6KW4s0Rxn"
      },
      "execution_count": 136,
      "outputs": []
    },
    {
      "cell_type": "code",
      "source": [
        "re.search('a', s)"
      ],
      "metadata": {
        "colab": {
          "base_uri": "https://localhost:8080/"
        },
        "id": "9xZ4bY6GC6_S",
        "outputId": "2b9c7957-ab97-4f95-931f-cc5985d125a1"
      },
      "execution_count": 138,
      "outputs": [
        {
          "output_type": "execute_result",
          "data": {
            "text/plain": [
              "<re.Match object; span=(0, 1), match='a'>"
            ]
          },
          "metadata": {},
          "execution_count": 138
        }
      ]
    },
    {
      "cell_type": "code",
      "source": [
        "re.findall('a', s)"
      ],
      "metadata": {
        "colab": {
          "base_uri": "https://localhost:8080/"
        },
        "id": "vtLE6DzfC-aV",
        "outputId": "e1daad46-0aa8-410d-fad8-b144cd3e35d1"
      },
      "execution_count": 139,
      "outputs": [
        {
          "output_type": "execute_result",
          "data": {
            "text/plain": [
              "['a', 'a', 'a']"
            ]
          },
          "metadata": {},
          "execution_count": 139
        }
      ]
    },
    {
      "cell_type": "code",
      "source": [
        "re.split('a', s)"
      ],
      "metadata": {
        "colab": {
          "base_uri": "https://localhost:8080/"
        },
        "id": "_oSgE0dhDEDA",
        "outputId": "a0b1e5aa-f735-4cf8-bd3f-179f3ac60a5b"
      },
      "execution_count": 140,
      "outputs": [
        {
          "output_type": "execute_result",
          "data": {
            "text/plain": [
              "['', 'bc', 'bbc', '']"
            ]
          },
          "metadata": {},
          "execution_count": 140
        }
      ]
    },
    {
      "cell_type": "markdown",
      "source": [
        "##named groups and look ahead"
      ],
      "metadata": {
        "id": "Dy0vndpYGp37"
      }
    },
    {
      "cell_type": "code",
      "source": [
        "s = '''\n",
        "Mr. Golestani\n",
        "Ms Ahmadi\n",
        "Mrs. Maghsoodi\n",
        "Ms Jahanbani\n",
        "Mr T'''"
      ],
      "metadata": {
        "id": "EST-Xt3nGumv"
      },
      "execution_count": 164,
      "outputs": []
    },
    {
      "cell_type": "code",
      "source": [
        "pattern = re.compile(r'(?P<sit>Mr|Mrs|Ms)\\.?\\s(?=\\w+)')"
      ],
      "metadata": {
        "id": "-oSy5sUhHQSJ"
      },
      "execution_count": 184,
      "outputs": []
    },
    {
      "cell_type": "code",
      "source": [
        "matches = pattern.finditer(s)"
      ],
      "metadata": {
        "id": "tj-NFXi6HlOG"
      },
      "execution_count": 185,
      "outputs": []
    },
    {
      "cell_type": "code",
      "source": [
        "for m in matches:\n",
        "  print(m.groupdict())"
      ],
      "metadata": {
        "colab": {
          "base_uri": "https://localhost:8080/"
        },
        "id": "cpq9szV3Hw68",
        "outputId": "490ebbbd-d146-4d44-ebac-a3840c08d1c1"
      },
      "execution_count": 186,
      "outputs": [
        {
          "output_type": "stream",
          "name": "stdout",
          "text": [
            "{'sit': 'Mr'}\n",
            "{'sit': 'Ms'}\n",
            "{'sit': 'Mrs'}\n",
            "{'sit': 'Ms'}\n",
            "{'sit': 'Mr'}\n"
          ]
        }
      ]
    },
    {
      "cell_type": "markdown",
      "source": [
        "you can write regex with ''' ''' so that is more readble but first you nedd to set coresponding flag to true and after that use \\ for spaces or new line ore use \\s"
      ],
      "metadata": {
        "id": "tW6sPJsRLj41"
      }
    },
    {
      "cell_type": "markdown",
      "source": [
        "##example"
      ],
      "metadata": {
        "id": "Sd2GCUcbzex9"
      }
    },
    {
      "cell_type": "code",
      "source": [
        "s = \"\"\"\n",
        "121.104.130.220 - dach6856 [21/Jun/2019:15:47:11 -0700] \"GET /infomediaries/e-business/metrics/interfaces HTTP/1.0\" 201 15366\n",
        "\"\"\""
      ],
      "metadata": {
        "id": "QZZXMEUYljiq"
      },
      "execution_count": 249,
      "outputs": []
    },
    {
      "cell_type": "code",
      "source": [
        "matches = re.finditer(pattern, s, flags=re.VERBOSE)"
      ],
      "metadata": {
        "id": "nzTS__-plshA"
      },
      "execution_count": 250,
      "outputs": []
    },
    {
      "cell_type": "code",
      "source": [
        "pattern = '''\n",
        "\n",
        "    (?P<host>\\d{3}\\.\\d{3}\\.\\d{3}\\.\\d{3})\\ -\\\n",
        "    (?P<user_name>-|[a-z0-9]*)\\\n",
        "    \\[(?P<time>\\d{2}\\/[A-Z][a-z]*\\/\\d{4}:\\d{2}:\\d{2}:\\d{2}\\ [-]\\d{4})\\]\\\n",
        "    \"(?P<request>[A-Z]*\\ [^ ]*\\ [^\"]*)\n",
        "    '''"
      ],
      "metadata": {
        "id": "KArXdvE1li3b"
      },
      "execution_count": 251,
      "outputs": []
    },
    {
      "cell_type": "code",
      "source": [
        "for m in matches:\n",
        "  print(m.groupdict())"
      ],
      "metadata": {
        "colab": {
          "base_uri": "https://localhost:8080/"
        },
        "id": "PqakZYdymJJl",
        "outputId": "b991d047-607d-4192-9886-c7169e6cd1b2"
      },
      "execution_count": 252,
      "outputs": [
        {
          "output_type": "stream",
          "name": "stdout",
          "text": [
            "{'host': '121.104.130.220', 'user_name': 'dach6856', 'time': '21/Jun/2019:15:47:11 -0700', 'request': 'GET /infomediaries/e-business/metrics/interfaces HTTP/1.0'}\n"
          ]
        }
      ]
    },
    {
      "cell_type": "code",
      "source": [],
      "metadata": {
        "id": "nvKptUjG1q8h"
      },
      "execution_count": 245,
      "outputs": []
    }
  ]
}